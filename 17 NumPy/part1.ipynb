{
 "cells": [
  {
   "cell_type": "code",
   "id": "d5b00622",
   "metadata": {
    "ExecuteTime": {
     "end_time": "2025-08-23T21:13:33.770070Z",
     "start_time": "2025-08-23T21:13:33.762421Z"
    }
   },
   "source": [
    "import numpy as np\n",
    "arr1 = np.array([1, 2, 3, 4, 5])\n",
    "arr1"
   ],
   "outputs": [
    {
     "data": {
      "text/plain": [
       "array([1, 2, 3, 4, 5])"
      ]
     },
     "execution_count": 2,
     "metadata": {},
     "output_type": "execute_result"
    }
   ],
   "execution_count": 2
  },
  {
   "cell_type": "code",
   "id": "86341549",
   "metadata": {
    "ExecuteTime": {
     "end_time": "2025-08-23T21:13:33.841940Z",
     "start_time": "2025-08-23T21:13:33.834632Z"
    }
   },
   "source": [
    "type(arr1)"
   ],
   "outputs": [
    {
     "data": {
      "text/plain": [
       "numpy.ndarray"
      ]
     },
     "execution_count": 3,
     "metadata": {},
     "output_type": "execute_result"
    }
   ],
   "execution_count": 3
  },
  {
   "cell_type": "code",
   "id": "b8055a57",
   "metadata": {
    "ExecuteTime": {
     "end_time": "2025-08-23T21:13:33.915726Z",
     "start_time": "2025-08-23T21:13:33.910622Z"
    }
   },
   "source": [
    "arr2 = np.array([[1, 2, 3],[4, 5, 6]])\n",
    "arr2"
   ],
   "outputs": [
    {
     "data": {
      "text/plain": [
       "array([[1, 2, 3],\n",
       "       [4, 5, 6]])"
      ]
     },
     "execution_count": 4,
     "metadata": {},
     "output_type": "execute_result"
    }
   ],
   "execution_count": 4
  },
  {
   "cell_type": "code",
   "id": "85d7212b",
   "metadata": {
    "ExecuteTime": {
     "end_time": "2025-08-23T21:13:33.968964Z",
     "start_time": "2025-08-23T21:13:33.962543Z"
    }
   },
   "source": [
    "type(arr2)"
   ],
   "outputs": [
    {
     "data": {
      "text/plain": [
       "numpy.ndarray"
      ]
     },
     "execution_count": 5,
     "metadata": {},
     "output_type": "execute_result"
    }
   ],
   "execution_count": 5
  },
  {
   "cell_type": "code",
   "id": "09ac4587",
   "metadata": {
    "ExecuteTime": {
     "end_time": "2025-08-23T21:13:34.006570Z",
     "start_time": "2025-08-23T21:13:33.999080Z"
    }
   },
   "source": [
    "arr3 = np.zeros((5,3))\n",
    "arr4 = np.ones((5,3))\n",
    "print(arr3)\n",
    "\n",
    "print(arr4)"
   ],
   "outputs": [
    {
     "name": "stdout",
     "output_type": "stream",
     "text": [
      "[[0. 0. 0.]\n",
      " [0. 0. 0.]\n",
      " [0. 0. 0.]\n",
      " [0. 0. 0.]\n",
      " [0. 0. 0.]]\n",
      "[[1. 1. 1.]\n",
      " [1. 1. 1.]\n",
      " [1. 1. 1.]\n",
      " [1. 1. 1.]\n",
      " [1. 1. 1.]]\n"
     ]
    }
   ],
   "execution_count": 6
  },
  {
   "cell_type": "code",
   "id": "2d4f3b80",
   "metadata": {
    "ExecuteTime": {
     "end_time": "2025-08-23T21:13:34.815262Z",
     "start_time": "2025-08-23T21:13:34.810047Z"
    }
   },
   "source": [
    "arr5 = np.identity((5))\n",
    "print(arr5)"
   ],
   "outputs": [
    {
     "name": "stdout",
     "output_type": "stream",
     "text": [
      "[[1. 0. 0. 0. 0.]\n",
      " [0. 1. 0. 0. 0.]\n",
      " [0. 0. 1. 0. 0.]\n",
      " [0. 0. 0. 1. 0.]\n",
      " [0. 0. 0. 0. 1.]]\n"
     ]
    }
   ],
   "execution_count": 7
  },
  {
   "cell_type": "code",
   "id": "cb2c7d95",
   "metadata": {
    "ExecuteTime": {
     "end_time": "2025-08-23T21:13:35.575248Z",
     "start_time": "2025-08-23T21:13:35.569858Z"
    }
   },
   "source": [
    "arr6 = np.arange(15)\n",
    "print(arr6)\n",
    "\n",
    "arr7 = np.arange(5,15)\n",
    "print(arr7)"
   ],
   "outputs": [
    {
     "name": "stdout",
     "output_type": "stream",
     "text": [
      "[ 0  1  2  3  4  5  6  7  8  9 10 11 12 13 14]\n",
      "[ 5  6  7  8  9 10 11 12 13 14]\n"
     ]
    }
   ],
   "execution_count": 8
  },
  {
   "cell_type": "code",
   "id": "f82db9fc",
   "metadata": {
    "ExecuteTime": {
     "end_time": "2025-08-23T21:13:35.739728Z",
     "start_time": "2025-08-23T21:13:35.732382Z"
    }
   },
   "source": [
    "arr8 = np.linspace(10, 20, 10)\n",
    "print(arr8)"
   ],
   "outputs": [
    {
     "name": "stdout",
     "output_type": "stream",
     "text": [
      "[10.         11.11111111 12.22222222 13.33333333 14.44444444 15.55555556\n",
      " 16.66666667 17.77777778 18.88888889 20.        ]\n"
     ]
    }
   ],
   "execution_count": 9
  },
  {
   "cell_type": "code",
   "id": "387950b7",
   "metadata": {
    "ExecuteTime": {
     "end_time": "2025-08-23T21:13:35.834639Z",
     "start_time": "2025-08-23T21:13:35.828465Z"
    }
   },
   "source": [
    "arr9 = arr8.copy()\n",
    "print(arr9)"
   ],
   "outputs": [
    {
     "name": "stdout",
     "output_type": "stream",
     "text": [
      "[10.         11.11111111 12.22222222 13.33333333 14.44444444 15.55555556\n",
      " 16.66666667 17.77777778 18.88888889 20.        ]\n"
     ]
    }
   ],
   "execution_count": 10
  }
 ],
 "metadata": {
  "kernelspec": {
   "display_name": "base",
   "language": "python",
   "name": "python3"
  },
  "language_info": {
   "codemirror_mode": {
    "name": "ipython",
    "version": 3
   },
   "file_extension": ".py",
   "mimetype": "text/x-python",
   "name": "python",
   "nbconvert_exporter": "python",
   "pygments_lexer": "ipython3",
   "version": "3.13.5"
  }
 },
 "nbformat": 4,
 "nbformat_minor": 5
}
