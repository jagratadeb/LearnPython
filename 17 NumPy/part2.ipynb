{
 "cells": [
  {
   "cell_type": "code",
   "execution_count": 14,
   "id": "4cb7422d",
   "metadata": {
    "ExecuteTime": {
     "end_time": "2025-08-23T21:24:34.770879Z",
     "start_time": "2025-08-23T21:24:34.762912Z"
    }
   },
   "outputs": [
    {
     "name": "stdout",
     "output_type": "stream",
     "text": [
      "1D array:\n",
      "[1 2 3 4 5]\n",
      "Dimension of 1D array: 1\n",
      "\n",
      "2D array:\n",
      "[[1 2 3]\n",
      " [4 5 6]]\n",
      "Dimension of 2D array: 2\n",
      "\n",
      "3D array:\n",
      "[[[1 2]\n",
      "  [3 4]]\n",
      "\n",
      " [[5 6]\n",
      "  [7 8]]]\n",
      "Dimension of 3D array: 3\n",
      "\n",
      "Reshaped 1D array to (2, 3, 2):\n",
      "[[[ 0  1]\n",
      "  [ 2  3]\n",
      "  [ 4  5]]\n",
      "\n",
      " [[ 6  7]\n",
      "  [ 8  9]\n",
      "  [10 11]]]\n",
      "Shape of reshaped array: (2, 3, 2)\n",
      "Dimension of reshaped array: 3\n"
     ]
    }
   ],
   "source": [
    "import numpy as np\n",
    "\n",
    "# 1D array example\n",
    "arr_1d = np.array([1, 2, 3, 4, 5])  # Create a 1D array\n",
    "print(\"1D array:\")\n",
    "print(arr_1d)\n",
    "print(\"Dimension of 1D array:\", arr_1d.ndim)\n",
    "\n",
    "# 2D array example\n",
    "arr_2d = np.array([[1, 2, 3], [4, 5, 6]])  # Create a 2D array\n",
    "print(\"\\n2D array:\")\n",
    "print(arr_2d)\n",
    "print(\"Dimension of 2D array:\", arr_2d.ndim)\n",
    "\n",
    "# 3D array example\n",
    "arr_3d = np.array([[[1, 2], [3, 4]], [[5, 6], [7, 8]]])  # Create a 3D array\n",
    "print(\"\\n3D array:\")\n",
    "print(arr_3d)\n",
    "print(\"Dimension of 3D array:\", arr_3d.ndim)\n",
    "\n",
    "# Reshape 1D array to shape (2, 3, 2)\n",
    "arr = np.arange(12)  # Create a 1D array with 12 elements: [0, 1, ..., 11]\n",
    "reshaped_arr = arr.reshape(2, 3, 2)  # Reshape to 2x3x2\n",
    "print(\"\\nReshaped 1D array to (2, 3, 2):\")\n",
    "print(reshaped_arr)\n",
    "print(\"Shape of reshaped array:\", reshaped_arr.shape)\n",
    "print(\"Dimension of reshaped array:\", reshaped_arr.ndim)"
   ]
  },
  {
   "cell_type": "code",
   "execution_count": 15,
   "id": "c9a95bfe",
   "metadata": {
    "ExecuteTime": {
     "end_time": "2025-08-23T21:24:34.799443Z",
     "start_time": "2025-08-23T21:24:34.794457Z"
    }
   },
   "outputs": [
    {
     "name": "stdout",
     "output_type": "stream",
     "text": [
      "\n",
      "Memory usage:\n",
      "List (estimated): 2800 bytes\n",
      "NumPy array: 800 bytes\n"
     ]
    }
   ],
   "source": [
    "list_a = range(100)\n",
    "list_b = np.arange(100)\n",
    "\n",
    "import sys\n",
    "\n",
    "print(\"\\nMemory usage:\")\n",
    "print(f\"List (estimated): {sys.getsizeof(87)*len(list_a)} bytes\")\n",
    "print(f\"NumPy array: {list_b.itemsize*list_b.size} bytes\")"
   ]
  },
  {
   "cell_type": "code",
   "execution_count": 16,
   "id": "bf10c7a8",
   "metadata": {
    "ExecuteTime": {
     "end_time": "2025-08-23T21:24:34.822319Z",
     "start_time": "2025-08-23T21:24:34.818179Z"
    }
   },
   "outputs": [
    {
     "name": "stdout",
     "output_type": "stream",
     "text": [
      "[ 2  4  6  8 10]\n"
     ]
    }
   ],
   "source": [
    "import numpy as np\n",
    "array = np.array([1,2,3,4,5])\n",
    "array = array * 2\n",
    "print(array)"
   ]
  },
  {
   "cell_type": "code",
   "execution_count": 17,
   "id": "8c2f2d02",
   "metadata": {
    "ExecuteTime": {
     "end_time": "2025-08-23T21:24:34.843094Z",
     "start_time": "2025-08-23T21:24:34.837942Z"
    }
   },
   "outputs": [
    {
     "name": "stdout",
     "output_type": "stream",
     "text": [
      "(3, 3, 3)\n",
      "3\n"
     ]
    }
   ],
   "source": [
    "import numpy as np\n",
    "array = np.array([[['A','B','C'],['D','E','F'],['G','H','I']],\n",
    "                 [['J','K','L'],['M','N','O'],['P','Q','R']],\n",
    "                 [['S','T','U'],['V','W','X'],['Y','Z',' ']]])\n",
    "print(array.shape)\n",
    "print(array.ndim)"
   ]
  },
  {
   "cell_type": "code",
   "execution_count": 18,
   "id": "b9a9bd6a",
   "metadata": {
    "ExecuteTime": {
     "end_time": "2025-08-23T21:24:34.863343Z",
     "start_time": "2025-08-23T21:24:34.858542Z"
    }
   },
   "outputs": [
    {
     "name": "stdout",
     "output_type": "stream",
     "text": [
      "HELLO\n"
     ]
    }
   ],
   "source": [
    "import numpy as np\n",
    "array = np.array([[['A','B','C'],['D','E','F'],['G','H','I']],\n",
    "                 [['J','K','L'],['M','N','O'],['P','Q','R']],\n",
    "                 [['S','T','U'],['V','W','X'],['Y','Z',' ']]])\n",
    "\n",
    "print(array[0][2][1] + array[0][1][1] + array[1][0][2] + array[1][0][2] + array[1][1][2]) "
   ]
  },
  {
   "cell_type": "code",
   "execution_count": 19,
   "id": "d9e63ea8",
   "metadata": {
    "ExecuteTime": {
     "end_time": "2025-08-23T21:24:34.888697Z",
     "start_time": "2025-08-23T21:24:34.881999Z"
    }
   },
   "outputs": [
    {
     "name": "stdout",
     "output_type": "stream",
     "text": [
      "[[ 1  2  3  4]\n",
      " [ 9 10 11 12]]\n",
      "2\n",
      "(4, 4)\n",
      "16\n",
      "int64\n"
     ]
    }
   ],
   "source": [
    "import numpy as np\n",
    "array = np.array([\n",
    "    [1,2,3,4],\n",
    "    [5,6,7,8],\n",
    "    [9,10,11,12],\n",
    "    [13,14,15,16]\n",
    "])\n",
    "\n",
    "print(array[0:4:2])\n",
    "print(array.ndim)\n",
    "print(array.shape)\n",
    "print(array.size)\n",
    "print(array.dtype)"
   ]
  },
  {
   "cell_type": "code",
   "execution_count": 20,
   "id": "d2f3931e",
   "metadata": {
    "ExecuteTime": {
     "end_time": "2025-08-23T21:24:34.924230Z",
     "start_time": "2025-08-23T21:24:34.916939Z"
    }
   },
   "outputs": [
    {
     "name": "stdout",
     "output_type": "stream",
     "text": [
      "Columns:\n",
      "Column 0: [ 1  5  9 13]\n",
      "Column 1: [ 2  6 10 14]\n",
      "Column 2: [ 3  7 11 15]\n",
      "Column 3: [ 4  8 12 16]\n",
      "\n",
      "Select specific rows and columns:\n",
      " [[1 2]\n",
      " [5 6]]\n"
     ]
    }
   ],
   "source": [
    "import numpy as np\n",
    "array = np.array([\n",
    "    [1,2,3,4],\n",
    "    [5,6,7,8],\n",
    "    [9,10,11,12],\n",
    "    [13,14,15,16]\n",
    "])\n",
    "\n",
    "print(\"Columns:\")\n",
    "print(\"Column 0:\",array[:,0])\n",
    "print(\"Column 1:\",array[:,1])\n",
    "print(\"Column 2:\",array[:,2])\n",
    "print(\"Column 3:\",array[:,3])\n",
    "\n",
    "\n",
    "\n",
    "print(\"\\nSelect specific rows and columns:\\n\", array[:2,:2])"
   ]
  },
  {
   "cell_type": "code",
   "execution_count": 21,
   "id": "0aa3ffa4",
   "metadata": {
    "ExecuteTime": {
     "end_time": "2025-08-23T21:24:34.960046Z",
     "start_time": "2025-08-23T21:24:34.955147Z"
    }
   },
   "outputs": [
    {
     "name": "stdout",
     "output_type": "stream",
     "text": [
      "[2 3 4]\n",
      "[-1  0  1]\n",
      "[3 6 9]\n",
      "[0.25 0.5  0.75]\n",
      "[1.         1.41421356 1.73205081]\n",
      "[ 2.71828183  7.3890561  20.08553692]\n",
      "[0.         0.69314718 1.09861229]\n"
     ]
    }
   ],
   "source": [
    "import numpy as np\n",
    "array = np.array([1,2,3])\n",
    "print(array + 1)\n",
    "print(array - 2)\n",
    "print(array * 3)\n",
    "print(array / 4)\n",
    "\n",
    "print(np.sqrt(array))\n",
    "print(np.exp(array))\n",
    "print(np.log(array))\n"
   ]
  },
  {
   "cell_type": "markdown",
   "id": "25291fcd",
   "metadata": {},
   "source": [
    "# Rules for Broadcasting in NumPy\n",
    "Broadcasting in NumPy follows these rules:\n",
    "1. **If the arrays have different numbers of dimensions,** prepend 1s to the shape of the smaller array until both shapes have the same length.\n",
    "2. **Arrays are compatible in a dimension if they have the same size or if one of them is 1.**\n",
    "3. **Arrays can be broadcast together if they are compatible in all dimensions.**\n",
    "4. **After broadcasting, each array behaves as if it had shape equal to the elementwise maximum of shapes of the input arrays.**\n",
    "5. **If an array's dimension is 1, it is stretched to match the other array's size in that dimension.**\n",
    "\n",
    "**Example:**\n",
    "- Shape (3, 1) and (1, 4) can be broadcast to (3, 4).\n",
    "- Shape (5, 4) and (1, 4) can be broadcast to (5, 4)."
   ]
  },
  {
   "cell_type": "code",
   "execution_count": 22,
   "id": "5b57a2cd",
   "metadata": {
    "ExecuteTime": {
     "end_time": "2025-08-23T21:24:34.987334Z",
     "start_time": "2025-08-23T21:24:34.980314Z"
    }
   },
   "outputs": [
    {
     "name": "stdout",
     "output_type": "stream",
     "text": [
      "Array a:\n",
      "[1 2 3]\n",
      "\n",
      "Array b:\n",
      "[[10]\n",
      " [20]\n",
      " [30]]\n",
      "\n",
      "Result of broadcasting a + b:\n",
      "[[11 12 13]\n",
      " [21 22 23]\n",
      " [31 32 33]]\n",
      "Shape of result: (3, 3)\n"
     ]
    }
   ],
   "source": [
    "import numpy as np\n",
    "\n",
    "# Broadcasting example: adding a 1D array to a 2D array\n",
    "a = np.array([1, 2, 3])           # Shape: (3,)\n",
    "b = np.array([[10], [20], [30]])  # Shape: (3, 1)\n",
    "\n",
    "# NumPy automatically broadcasts 'a' to match the shape of 'b'\n",
    "result = a + b\n",
    "\n",
    "print(\"Array a:\")\n",
    "print(a)\n",
    "print(\"\\nArray b:\")\n",
    "print(b)\n",
    "print(\"\\nResult of broadcasting a + b:\")\n",
    "print(result)\n",
    "print(\"Shape of result:\", result.shape)"
   ]
  },
  {
   "cell_type": "code",
   "execution_count": 23,
   "id": "803d8976",
   "metadata": {
    "ExecuteTime": {
     "end_time": "2025-08-23T21:24:35.006587Z",
     "start_time": "2025-08-23T21:24:34.999874Z"
    }
   },
   "outputs": [
    {
     "name": "stdout",
     "output_type": "stream",
     "text": [
      "55\n",
      "5.5\n",
      "10\n",
      "1\n",
      "2.8722813232690143\n",
      "8.25\n",
      "5.5\n",
      "5.5\n",
      "3.25\n",
      "7.75\n",
      "9\n",
      "0\n"
     ]
    }
   ],
   "source": [
    "import numpy as np\n",
    "\n",
    "array = np.array([[1,2,3,4,5],[6,7,8,9,10]])\n",
    "\n",
    "print(np.sum(array))  # Sum of all elements\n",
    "print(np.mean(array))  # Mean of all elements\n",
    "print(np.max(array))  # Maximum element\n",
    "print(np.min(array))  # Minimum element\n",
    "print(np.std(array))  # Standard deviation\n",
    "print(np.var(array))  # Variance of all elements\n",
    "print(np.median(array))  # Median of all elements\n",
    "print(np.percentile(array, 50))  # 50th percentile (median)\n",
    "print(np.percentile(array, 25))  # 25th percentile\n",
    "print(np.percentile(array, 75))  # 75th percentile\n",
    "print(np.argmax(array))  # Index of the maximum element\n",
    "print(np.argmin(array))  # Index of the minimum element"
   ]
  },
  {
   "cell_type": "code",
   "execution_count": 24,
   "id": "a1e93de0",
   "metadata": {
    "ExecuteTime": {
     "end_time": "2025-08-23T21:24:35.033525Z",
     "start_time": "2025-08-23T21:24:35.028088Z"
    }
   },
   "outputs": [
    {
     "name": "stdout",
     "output_type": "stream",
     "text": [
      "Teenage ages: [17 19 16 18 15 18 19]\n",
      "Adult ages: [21 20 30 39 22 20 21]\n",
      "Senior ages: [65 99]\n",
      "Teenagers (using np.where):\n",
      " [[ 0 17 19  0 16  0 18  0]\n",
      " [ 0  0 15  0 18 19  0  0]]\n"
     ]
    }
   ],
   "source": [
    "import numpy as np\n",
    "ages = np.array([\n",
    "    [21,17,19,20,16,30,18,65],\n",
    "    [39,22,15,99,18,19,20,21],\n",
    "])\n",
    "\n",
    "teenagers = ages[ages < 20]\n",
    "print(\"Teenage ages:\", teenagers)\n",
    "\n",
    "adults = ages[(ages >= 20) & (ages < 60)]\n",
    "print(\"Adult ages:\", adults)\n",
    "\n",
    "seniors = ages[ages >= 60]\n",
    "print(\"Senior ages:\", seniors)\n",
    "\n",
    "teenagers = np.where(ages < 20, ages, 0)\n",
    "print(\"Teenagers (using np.where):\\n\", teenagers)"
   ]
  },
  {
   "cell_type": "code",
   "execution_count": 25,
   "id": "aa91d9b4",
   "metadata": {
    "ExecuteTime": {
     "end_time": "2025-08-23T21:24:35.054351Z",
     "start_time": "2025-08-23T21:24:35.050107Z"
    }
   },
   "outputs": [
    {
     "name": "stdout",
     "output_type": "stream",
     "text": [
      "[[48 52 76 96  4]\n",
      " [15 83 95 25 32]\n",
      " [87 43 28 83 26]\n",
      " [41 65 55  9  3]\n",
      " [87 76 84 54 82]]\n"
     ]
    }
   ],
   "source": [
    "import numpy as np\n",
    "\n",
    "rng = np.random.default_rng(seed=1)\n",
    "\n",
    "print(rng.integers(low = 1, high = 101, size=(5,5)))"
   ]
  },
  {
   "cell_type": "code",
   "execution_count": 26,
   "id": "861c12ea",
   "metadata": {
    "ExecuteTime": {
     "end_time": "2025-08-23T21:24:35.073993Z",
     "start_time": "2025-08-23T21:24:35.068203Z"
    }
   },
   "outputs": [
    {
     "name": "stdout",
     "output_type": "stream",
     "text": [
      "[5 4 1 3 2]\n",
      "Selected fruit: cherry\n"
     ]
    }
   ],
   "source": [
    "import numpy as np\n",
    "rng = np.random.default_rng()\n",
    "\n",
    "array = np.array([1,2,3,4,5])\n",
    "fruits = np.array(['apple', 'banana', 'cherry', 'date', 'elderberry'])\n",
    "\n",
    "rng.shuffle(array)\n",
    "\n",
    "fruit = rng.choice(fruits)\n",
    "print(array)\n",
    "print(\"Selected fruit:\", fruit)"
   ]
  }
 ],
 "metadata": {
  "kernelspec": {
   "display_name": "base",
   "language": "python",
   "name": "python3"
  },
  "language_info": {
   "codemirror_mode": {
    "name": "ipython",
    "version": 3
   },
   "file_extension": ".py",
   "mimetype": "text/x-python",
   "name": "python",
   "nbconvert_exporter": "python",
   "pygments_lexer": "ipython3",
   "version": "3.13.5"
  }
 },
 "nbformat": 4,
 "nbformat_minor": 5
}
