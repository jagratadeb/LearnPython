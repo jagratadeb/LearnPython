{
 "cells": [
  {
   "cell_type": "markdown",
   "id": "c71fa056",
   "metadata": {},
   "source": [
    "## User Input"
   ]
  },
  {
   "cell_type": "code",
   "execution_count": 1,
   "id": "8553040d",
   "metadata": {},
   "outputs": [
    {
     "name": "stdout",
     "output_type": "stream",
     "text": [
      "Hello, Jagrata Deb! Welcome to Python.\n"
     ]
    }
   ],
   "source": [
    "# String input\n",
    "name = input(\"Enter your name: \")  # Default input is always a string\n",
    "print(f\"Hello, {name}! Welcome to Python.\")"
   ]
  },
  {
   "cell_type": "code",
   "execution_count": 2,
   "id": "f1de216a",
   "metadata": {},
   "outputs": [
    {
     "name": "stdout",
     "output_type": "stream",
     "text": [
      "You are 20 years old.\n"
     ]
    }
   ],
   "source": [
    "# Integer input (converted using int())\n",
    "age = int(input(\"Enter your age: \"))  \n",
    "print(f\"You are {age} years old.\")"
   ]
  },
  {
   "cell_type": "code",
   "execution_count": 3,
   "id": "9bcf9e29",
   "metadata": {},
   "outputs": [
    {
     "name": "stdout",
     "output_type": "stream",
     "text": [
      "Your height is 70.0 meters.\n"
     ]
    }
   ],
   "source": [
    "# Float input (converted using float())\n",
    "height = float(input(\"Enter your height in meters: \"))  \n",
    "print(f\"Your height is {height} meters.\")"
   ]
  },
  {
   "cell_type": "code",
   "execution_count": 4,
   "id": "a2aa9a5e",
   "metadata": {},
   "outputs": [
    {
     "name": "stdout",
     "output_type": "stream",
     "text": [
      "\n",
      "Summary:\n",
      "Name: Jagrata Deb\n",
      "Age: 20\n",
      "Height: 70.0m\n"
     ]
    }
   ],
   "source": [
    "# Printing all collected inputs\n",
    "print(f\"\\nSummary:\\nName: {name}\\nAge: {age}\\nHeight: {height}m\")"
   ]
  }
 ],
 "metadata": {
  "kernelspec": {
   "display_name": "Python 3",
   "language": "python",
   "name": "python3"
  },
  "language_info": {
   "codemirror_mode": {
    "name": "ipython",
    "version": 3
   },
   "file_extension": ".py",
   "mimetype": "text/x-python",
   "name": "python",
   "nbconvert_exporter": "python",
   "pygments_lexer": "ipython3",
   "version": "3.13.1"
  }
 },
 "nbformat": 4,
 "nbformat_minor": 5
}
