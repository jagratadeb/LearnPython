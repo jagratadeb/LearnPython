{
 "cells": [
  {
   "cell_type": "markdown",
   "id": "71be57f9",
   "metadata": {},
   "source": [
    "## Comments"
   ]
  },
  {
   "cell_type": "code",
   "execution_count": 2,
   "id": "e11fbcde",
   "metadata": {},
   "outputs": [
    {
     "name": "stdout",
     "output_type": "stream",
     "text": [
      "Hello, World!\n"
     ]
    }
   ],
   "source": [
    "# This is a single-line comment\n",
    "print(\"Hello, World!\")  # This is also a comment"
   ]
  },
  {
   "cell_type": "code",
   "execution_count": null,
   "id": "3ad3f8ac",
   "metadata": {},
   "outputs": [
    {
     "name": "stdout",
     "output_type": "stream",
     "text": [
      "Python is fun!\n"
     ]
    }
   ],
   "source": [
    "# This is a multi-line comment\n",
    "# that does not span multiple lines\n",
    "print(\"Python is fun!\")"
   ]
  },
  {
   "cell_type": "code",
   "execution_count": 4,
   "id": "23370753",
   "metadata": {},
   "outputs": [
    {
     "name": "stdout",
     "output_type": "stream",
     "text": [
      "Python allows multi-line comments using triple quotes.\n"
     ]
    }
   ],
   "source": [
    "\"\"\"\n",
    "This is a multi-line comment.\n",
    "It can span multiple lines.\n",
    "\"\"\"\n",
    "print(\"Python allows multi-line comments using triple quotes.\")"
   ]
  }
 ],
 "metadata": {
  "kernelspec": {
   "display_name": "Python 3",
   "language": "python",
   "name": "python3"
  },
  "language_info": {
   "codemirror_mode": {
    "name": "ipython",
    "version": 3
   },
   "file_extension": ".py",
   "mimetype": "text/x-python",
   "name": "python",
   "nbconvert_exporter": "python",
   "pygments_lexer": "ipython3",
   "version": "3.13.1"
  }
 },
 "nbformat": 4,
 "nbformat_minor": 5
}
