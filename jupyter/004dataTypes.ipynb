{
 "cells": [
  {
   "cell_type": "markdown",
   "id": "4b4ff0fc",
   "metadata": {},
   "source": [
    "## Data Types"
   ]
  },
  {
   "cell_type": "code",
   "execution_count": 1,
   "id": "10ec388b",
   "metadata": {},
   "outputs": [],
   "source": [
    "# Data Types in Python\n",
    "integer_num = 10       # Integer\n",
    "float_num = 3.14       # Float\n",
    "string_val = \"Hello\"   # String\n",
    "bool_val = True        # Boolean\n",
    "list_val = [1, 2, 3]   # List\n",
    "tuple_val = (1, 2, 3)  # Tuple\n",
    "dict_val = {\"a\": 1, \"b\": 2}  # Dictionary\n",
    "set_val = {1, 2, 3}    # Set\n",
    "\n",
    "\n"
   ]
  },
  {
   "cell_type": "code",
   "execution_count": 2,
   "id": "5e21aee1",
   "metadata": {},
   "outputs": [
    {
     "name": "stdout",
     "output_type": "stream",
     "text": [
      "Integer: 10, Type: <class 'int'>\n",
      "Float: 3.14, Type: <class 'float'>\n",
      "String: Hello, Type: <class 'str'>\n",
      "Boolean: True, Type: <class 'bool'>\n",
      "List: [1, 2, 3], Type: <class 'list'>\n",
      "Tuple: (1, 2, 3), Type: <class 'tuple'>\n",
      "Dictionary: {'a': 1, 'b': 2}, Type: <class 'dict'>\n",
      "Set: {1, 2, 3}, Type: <class 'set'>\n"
     ]
    }
   ],
   "source": [
    "# Printing values with their types\n",
    "print(f\"Integer: {integer_num}, Type: {type(integer_num)}\")\n",
    "print(f\"Float: {float_num}, Type: {type(float_num)}\")\n",
    "print(f\"String: {string_val}, Type: {type(string_val)}\")\n",
    "print(f\"Boolean: {bool_val}, Type: {type(bool_val)}\")\n",
    "print(f\"List: {list_val}, Type: {type(list_val)}\")\n",
    "print(f\"Tuple: {tuple_val}, Type: {type(tuple_val)}\")\n",
    "print(f\"Dictionary: {dict_val}, Type: {type(dict_val)}\")\n",
    "print(f\"Set: {set_val}, Type: {type(set_val)}\")"
   ]
  }
 ],
 "metadata": {
  "kernelspec": {
   "display_name": "Python 3",
   "language": "python",
   "name": "python3"
  },
  "language_info": {
   "codemirror_mode": {
    "name": "ipython",
    "version": 3
   },
   "file_extension": ".py",
   "mimetype": "text/x-python",
   "name": "python",
   "nbconvert_exporter": "python",
   "pygments_lexer": "ipython3",
   "version": "3.13.1"
  }
 },
 "nbformat": 4,
 "nbformat_minor": 5
}
