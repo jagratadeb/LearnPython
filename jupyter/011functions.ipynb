{
 "cells": [
  {
   "cell_type": "markdown",
   "id": "5509d9c2",
   "metadata": {},
   "source": [
    "# Functions"
   ]
  },
  {
   "cell_type": "code",
   "execution_count": 8,
   "id": "413932d8",
   "metadata": {},
   "outputs": [
    {
     "name": "stdout",
     "output_type": "stream",
     "text": [
      "This is a function\n"
     ]
    }
   ],
   "source": [
    "def fun():\n",
    "    print(\"This is a function\")\n",
    "\n",
    "fun()"
   ]
  },
  {
   "cell_type": "markdown",
   "id": "a2eac73d",
   "metadata": {},
   "source": [
    "### Default Parameters"
   ]
  },
  {
   "cell_type": "code",
   "execution_count": 9,
   "id": "05491bf2",
   "metadata": {},
   "outputs": [
    {
     "name": "stdout",
     "output_type": "stream",
     "text": [
      "Hello! Jagrata\n",
      "Hello! Default Name\n"
     ]
    }
   ],
   "source": [
    "def greet(name = \"Default Name\"):\n",
    "    print(f\"Hello! {name}\")\n",
    "\n",
    "greet(\"Jagrata\")\n",
    "\n",
    "greet()"
   ]
  },
  {
   "cell_type": "markdown",
   "id": "3c0fd9fa",
   "metadata": {},
   "source": [
    "### Positional Arguments"
   ]
  },
  {
   "cell_type": "code",
   "execution_count": 10,
   "id": "683f9e40",
   "metadata": {},
   "outputs": [
    {
     "name": "stdout",
     "output_type": "stream",
     "text": [
      "1\n",
      "2\n",
      "3\n",
      "4\n",
      "Jagrata\n"
     ]
    }
   ],
   "source": [
    "def printMessage(*args):\n",
    "    for message in args:\n",
    "        print(message)\n",
    "\n",
    "printMessage(1,2,3,4,\"Jagrata\")"
   ]
  },
  {
   "cell_type": "markdown",
   "id": "bd7ac367",
   "metadata": {},
   "source": [
    "### Optional Arguments"
   ]
  },
  {
   "cell_type": "code",
   "execution_count": 11,
   "id": "a5bddcaa",
   "metadata": {},
   "outputs": [
    {
     "name": "stdout",
     "output_type": "stream",
     "text": [
      "name : Jagrata Deb\n",
      "age : 20\n",
      "country : India\n"
     ]
    }
   ],
   "source": [
    "def print_details(**kwargs):\n",
    "    for key, value in kwargs.items():\n",
    "        print(f\"{key} : {value}\")\n",
    "\n",
    "print_details(name=\"Jagrata Deb\", age= \"20\", country=\"India\")"
   ]
  },
  {
   "cell_type": "markdown",
   "id": "89a9f463",
   "metadata": {},
   "source": [
    "### Lambda Functions"
   ]
  },
  {
   "cell_type": "code",
   "execution_count": 12,
   "id": "1c5a6cf7",
   "metadata": {},
   "outputs": [
    {
     "name": "stdout",
     "output_type": "stream",
     "text": [
      "6\n",
      "10\n"
     ]
    }
   ],
   "source": [
    "addition = lambda x,y : x + y\n",
    "print(addition(1,5))\n",
    "\n",
    "multiplication = lambda x,y: x * y\n",
    "print(multiplication(2,5))"
   ]
  },
  {
   "cell_type": "markdown",
   "id": "3fe7bff4",
   "metadata": {},
   "source": [
    "### Map"
   ]
  },
  {
   "cell_type": "code",
   "execution_count": 13,
   "id": "5073c220",
   "metadata": {},
   "outputs": [
    {
     "name": "stdout",
     "output_type": "stream",
     "text": [
      "Original:  [1, 2, 3, 4, 5, 6, 7, 8, 9, 10]\n",
      "Squared : [1, 4, 9, 16, 25, 36, 49, 64, 81, 100]\n",
      "Reversed : [10, 9, 8, 7, 6, 5, 4, 3, 2, 1]\n",
      "Addition : [11, 11, 11, 11, 11, 11, 11, 11, 11, 11]\n"
     ]
    }
   ],
   "source": [
    "numbers = [1,2,3,4,5,6,7,8,9,10]\n",
    "print(\"Original: \",numbers)\n",
    "\n",
    "squared = list(map(lambda x: x**2, numbers))\n",
    "print(\"Squared :\",squared)\n",
    "\n",
    "reverseNumber = numbers.copy()\n",
    "reverseNumber.reverse()\n",
    "addition = list(map(lambda x,y: x+y, numbers, reverseNumber))\n",
    "\n",
    "print(\"Reversed :\", reverseNumber)\n",
    "print(f\"Addition : {addition}\")"
   ]
  }
 ],
 "metadata": {
  "kernelspec": {
   "display_name": "Python 3",
   "language": "python",
   "name": "python3"
  },
  "language_info": {
   "codemirror_mode": {
    "name": "ipython",
    "version": 3
   },
   "file_extension": ".py",
   "mimetype": "text/x-python",
   "name": "python",
   "nbconvert_exporter": "python",
   "pygments_lexer": "ipython3",
   "version": "3.13.1"
  }
 },
 "nbformat": 4,
 "nbformat_minor": 5
}
