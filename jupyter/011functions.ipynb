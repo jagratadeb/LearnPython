{
 "cells": [
  {
   "cell_type": "markdown",
   "id": "5509d9c2",
   "metadata": {},
   "source": [
    "# Functions"
   ]
  },
  {
   "cell_type": "code",
   "execution_count": 67,
   "id": "413932d8",
   "metadata": {},
   "outputs": [
    {
     "name": "stdout",
     "output_type": "stream",
     "text": [
      "This is a function\n"
     ]
    }
   ],
   "source": [
    "def fun():\n",
    "    print(\"This is a function\")\n",
    "\n",
    "fun()"
   ]
  },
  {
   "cell_type": "markdown",
   "id": "a2eac73d",
   "metadata": {},
   "source": [
    "### Default Parameters"
   ]
  },
  {
   "cell_type": "code",
   "execution_count": 68,
   "id": "05491bf2",
   "metadata": {},
   "outputs": [
    {
     "name": "stdout",
     "output_type": "stream",
     "text": [
      "Hello! Jagrata\n",
      "Hello! Default Name\n"
     ]
    }
   ],
   "source": [
    "def greet(name = \"Default Name\"):\n",
    "    print(f\"Hello! {name}\")\n",
    "\n",
    "greet(\"Jagrata\")\n",
    "\n",
    "greet()"
   ]
  },
  {
   "cell_type": "markdown",
   "id": "3c0fd9fa",
   "metadata": {},
   "source": [
    "### Positional Arguments"
   ]
  },
  {
   "cell_type": "code",
   "execution_count": 69,
   "id": "683f9e40",
   "metadata": {},
   "outputs": [
    {
     "name": "stdout",
     "output_type": "stream",
     "text": [
      "1\n",
      "2\n",
      "3\n",
      "4\n",
      "Jagrata\n"
     ]
    }
   ],
   "source": [
    "def printMessage(*args):\n",
    "    for message in args:\n",
    "        print(message)\n",
    "\n",
    "printMessage(1,2,3,4,\"Jagrata\")"
   ]
  },
  {
   "cell_type": "markdown",
   "id": "bd7ac367",
   "metadata": {},
   "source": [
    "### Optional Arguments"
   ]
  },
  {
   "cell_type": "code",
   "execution_count": 70,
   "id": "a5bddcaa",
   "metadata": {},
   "outputs": [
    {
     "name": "stdout",
     "output_type": "stream",
     "text": [
      "name : Jagrata Deb\n",
      "age : 20\n",
      "country : India\n"
     ]
    }
   ],
   "source": [
    "def print_details(**kwargs):\n",
    "    for key, value in kwargs.items():\n",
    "        print(f\"{key} : {value}\")\n",
    "\n",
    "print_details(name=\"Jagrata Deb\", age= \"20\", country=\"India\")"
   ]
  },
  {
   "cell_type": "markdown",
   "id": "89a9f463",
   "metadata": {},
   "source": [
    "### Lambda Functions"
   ]
  },
  {
   "cell_type": "code",
   "execution_count": 71,
   "id": "1c5a6cf7",
   "metadata": {},
   "outputs": [
    {
     "name": "stdout",
     "output_type": "stream",
     "text": [
      "6\n",
      "10\n"
     ]
    }
   ],
   "source": [
    "addition = lambda x,y : x + y\n",
    "print(addition(1,5))\n",
    "\n",
    "multiplication = lambda x,y: x * y\n",
    "print(multiplication(2,5))"
   ]
  },
  {
   "cell_type": "markdown",
   "id": "3fe7bff4",
   "metadata": {},
   "source": [
    "### Map"
   ]
  },
  {
   "cell_type": "code",
   "execution_count": 72,
   "id": "5073c220",
   "metadata": {},
   "outputs": [
    {
     "name": "stdout",
     "output_type": "stream",
     "text": [
      "Original:  [1, 2, 3, 4, 5, 6, 7, 8, 9, 10]\n",
      "Squared : [1, 4, 9, 16, 25, 36, 49, 64, 81, 100]\n",
      "Reversed : [10, 9, 8, 7, 6, 5, 4, 3, 2, 1]\n",
      "Addition : [11, 11, 11, 11, 11, 11, 11, 11, 11, 11]\n",
      "String List: ['1', '2', '3', '4', '5']\n",
      "Converted List: [1, 2, 3, 4, 5]\n",
      "Fruits: ['apple', 'banana', 'guava']\n",
      "Upper Fruits: ['APPLE', 'BANANA', 'GUAVA']\n",
      "['Jagrata', 'Human']\n"
     ]
    }
   ],
   "source": [
    "numbers = [1,2,3,4,5,6,7,8,9,10]\n",
    "print(\"Original: \",numbers)\n",
    "\n",
    "squared = list(map(lambda x: x**2, numbers))\n",
    "print(\"Squared :\",squared)\n",
    "\n",
    "reverseNumber = numbers.copy()\n",
    "reverseNumber.reverse()\n",
    "addition = list(map(lambda x,y: x+y, numbers, reverseNumber))\n",
    "\n",
    "print(\"Reversed :\", reverseNumber)\n",
    "print(f\"Addition : {addition}\")\n",
    "\n",
    "str_numbers = ['1','2','3','4','5']\n",
    "int_numbers = list(map(int ,str_numbers))\n",
    "print(f\"String List: {str_numbers}\")\n",
    "print(f\"Converted List: {int_numbers}\")\n",
    "\n",
    "\n",
    "Fruits = [\"apple\", \"banana\", \"guava\"]\n",
    "upper_fruits = list(map(str.upper,Fruits))\n",
    "print(f\"Fruits: {Fruits}\")\n",
    "print(f\"Upper Fruits: {upper_fruits}\")\n",
    "\n",
    "\n",
    "def get_name(person):\n",
    "    return person['name']\n",
    "people = [\n",
    "    {'name':'Jagrata', 'age': 20},\n",
    "    {'name':'Human', 'age':30}\n",
    "]\n",
    "print(list(map(get_name, people)))"
   ]
  },
  {
   "cell_type": "markdown",
   "id": "b780ba0e",
   "metadata": {},
   "source": [
    "### Filter"
   ]
  },
  {
   "cell_type": "code",
   "execution_count": 84,
   "id": "7f52173f",
   "metadata": {},
   "outputs": [
    {
     "name": "stdout",
     "output_type": "stream",
     "text": [
      "Odd List: [1, 3, 5, 7, 9]\n",
      "Even List: [2, 4, 6, 8, 10]\n",
      "[{'name': 'Human', 'age': 30}]\n"
     ]
    }
   ],
   "source": [
    "def even(num):\n",
    "    if (num % 2 == 0):\n",
    "        return num\n",
    "    \n",
    "def odd(num):\n",
    "    if(num % 2 != 0):\n",
    "        return num\n",
    "    \n",
    "numbers = [1,2,3,4,5,6,7,8,9,10]\n",
    "\n",
    "even_list = list(filter(even,numbers))\n",
    "odd_list = list(filter(odd,numbers))\n",
    "\n",
    "print(f\"Odd List: {odd_list}\")\n",
    "print(f\"Even List: {even_list}\")\n",
    "\n",
    "\n",
    "def get_age(person):\n",
    "    return person['age'] > 25\n",
    "people = [\n",
    "    {'name':'Jagrata', 'age': 20},\n",
    "    {'name':'Human', 'age':30}\n",
    "]\n",
    "print(list(filter(get_age, people)))\n"
   ]
  }
 ],
 "metadata": {
  "kernelspec": {
   "display_name": "Python 3",
   "language": "python",
   "name": "python3"
  },
  "language_info": {
   "codemirror_mode": {
    "name": "ipython",
    "version": 3
   },
   "file_extension": ".py",
   "mimetype": "text/x-python",
   "name": "python",
   "nbconvert_exporter": "python",
   "pygments_lexer": "ipython3",
   "version": "3.13.1"
  }
 },
 "nbformat": 4,
 "nbformat_minor": 5
}
