{
 "cells": [
  {
   "cell_type": "markdown",
   "id": "e551c8b9",
   "metadata": {},
   "source": [
    "## Conditionals"
   ]
  },
  {
   "cell_type": "markdown",
   "id": "d38e4afd",
   "metadata": {},
   "source": [
    "#### if conditional"
   ]
  },
  {
   "cell_type": "code",
   "execution_count": 1,
   "id": "83c6eac5",
   "metadata": {},
   "outputs": [
    {
     "name": "stdout",
     "output_type": "stream",
     "text": [
      "x (10) is greater than 5\n"
     ]
    }
   ],
   "source": [
    "# Define the variable\n",
    "x = 10\n",
    "\n",
    "# Check the condition and print the result\n",
    "if (x > 5):\n",
    "    print(f\"x ({x}) is greater than 5\")\n"
   ]
  },
  {
   "cell_type": "markdown",
   "id": "6a36be19",
   "metadata": {},
   "source": [
    "#### if-else conditional"
   ]
  },
  {
   "cell_type": "code",
   "execution_count": 2,
   "id": "d0df5af7",
   "metadata": {},
   "outputs": [
    {
     "name": "stdout",
     "output_type": "stream",
     "text": [
      "x (10) is even\n"
     ]
    }
   ],
   "source": [
    "# Define the variable\n",
    "x = 10\n",
    "\n",
    "# Check if x is even or odd and print the result\n",
    "if (x % 2 == 0):\n",
    "    print(f\"x ({x}) is even\")\n",
    "else:\n",
    "    print(f\"x ({x}) is odd\")\n"
   ]
  },
  {
   "cell_type": "markdown",
   "id": "088c4f69",
   "metadata": {},
   "source": [
    "#### if-elif-else conditional"
   ]
  },
  {
   "cell_type": "code",
   "execution_count": 3,
   "id": "5528f91c",
   "metadata": {},
   "outputs": [
    {
     "name": "stdout",
     "output_type": "stream",
     "text": [
      "x (10) is positive\n"
     ]
    }
   ],
   "source": [
    "# Define the variable\n",
    "x = 10\n",
    "\n",
    "# Check the value of x and print the corresponding message\n",
    "if (x < 0):\n",
    "    print(f\"x ({x}) is negative\")\n",
    "elif (x == 0):\n",
    "    print(f\"x ({x}) is zero\")\n",
    "else:\n",
    "    print(f\"x ({x}) is positive\")\n"
   ]
  },
  {
   "cell_type": "markdown",
   "id": "1c059ce5",
   "metadata": {},
   "source": [
    "#### ternary conditional"
   ]
  },
  {
   "cell_type": "code",
   "execution_count": 4,
   "id": "c43fa436",
   "metadata": {},
   "outputs": [
    {
     "name": "stdout",
     "output_type": "stream",
     "text": [
      "x is even\n"
     ]
    }
   ],
   "source": [
    "# Define the variable\n",
    "x = 10\n",
    "\n",
    "# Determine if x is even or odd using a ternary conditional expression\n",
    "message = (\"x is even\") if (x % 2 == 0) else (\"x is odd\")\n",
    "\n",
    "# Print the result\n",
    "print(message)\n"
   ]
  }
 ],
 "metadata": {
  "kernelspec": {
   "display_name": "Python 3",
   "language": "python",
   "name": "python3"
  },
  "language_info": {
   "codemirror_mode": {
    "name": "ipython",
    "version": 3
   },
   "file_extension": ".py",
   "mimetype": "text/x-python",
   "name": "python",
   "nbconvert_exporter": "python",
   "pygments_lexer": "ipython3",
   "version": "3.13.1"
  }
 },
 "nbformat": 4,
 "nbformat_minor": 5
}
