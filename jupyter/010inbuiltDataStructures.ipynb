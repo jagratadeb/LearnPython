{
 "cells": [
  {
   "cell_type": "markdown",
   "id": "2de65118",
   "metadata": {},
   "source": [
    "# Inbuilt Data Structures\n",
    "\n",
    "## List "
   ]
  },
  {
   "cell_type": "markdown",
   "id": "6aad67bb",
   "metadata": {},
   "source": [
    "#### Creating a list"
   ]
  },
  {
   "cell_type": "code",
   "execution_count": 170,
   "id": "68561cdd",
   "metadata": {},
   "outputs": [
    {
     "name": "stdout",
     "output_type": "stream",
     "text": [
      "[1, 2, 3, 4, 5]\n",
      "<class 'type'>\n"
     ]
    }
   ],
   "source": [
    "my_list = [1, 2, 3, 4, 5]\n",
    "print(my_list)\n",
    "print(type(list))"
   ]
  },
  {
   "cell_type": "markdown",
   "id": "2297fcda",
   "metadata": {},
   "source": [
    "#### Accessing elements (indexing & slicing)"
   ]
  },
  {
   "cell_type": "code",
   "execution_count": 171,
   "id": "5c4f21a8",
   "metadata": {},
   "outputs": [
    {
     "name": "stdout",
     "output_type": "stream",
     "text": [
      "1\n",
      "5\n",
      "[2, 3, 4]\n"
     ]
    }
   ],
   "source": [
    "print(my_list[0])  # First element\n",
    "print(my_list[-1])  # Last element\n",
    "print(my_list[1:4])  # Slice from index 1 to 3"
   ]
  },
  {
   "cell_type": "markdown",
   "id": "c5bf2590",
   "metadata": {},
   "source": [
    "#### Modifying"
   ]
  },
  {
   "cell_type": "code",
   "execution_count": 172,
   "id": "e726277f",
   "metadata": {},
   "outputs": [
    {
     "name": "stdout",
     "output_type": "stream",
     "text": [
      "[1, 2, 10, 4, 5]\n",
      "[1, 2, 99, 10, 4, 5, 6, 7, 8, 9]\n",
      "[2, 4, 5, 6, 7, 8, 9]\n"
     ]
    }
   ],
   "source": [
    "# Modifying elements\n",
    "my_list[2] = 10  # Change element at index 2\n",
    "print(my_list)\n",
    "\n",
    "# Adding elements\n",
    "my_list.append(6)  # Append element\n",
    "my_list.insert(2, 99)  # Insert at index 2\n",
    "my_list.extend([7, 8, 9])  # Extend list\n",
    "print(my_list)\n",
    "\n",
    "# Removing elements\n",
    "my_list.remove(99)  # Remove specific element\n",
    "popped_value = my_list.pop(2)  # Pop at index 2\n",
    "del my_list[0]  # Delete element at index 0\n",
    "print(my_list)"
   ]
  },
  {
   "cell_type": "markdown",
   "id": "aeb16c48",
   "metadata": {},
   "source": [
    "#### Iterating through a list"
   ]
  },
  {
   "cell_type": "code",
   "execution_count": 173,
   "id": "91c3948e",
   "metadata": {},
   "outputs": [
    {
     "name": "stdout",
     "output_type": "stream",
     "text": [
      "2\n",
      "4\n",
      "5\n",
      "6\n",
      "7\n",
      "8\n",
      "9\n"
     ]
    }
   ],
   "source": [
    "for item in my_list:\n",
    "    print(item)"
   ]
  },
  {
   "cell_type": "markdown",
   "id": "130b2f60",
   "metadata": {},
   "source": [
    "#### List comprehensions"
   ]
  },
  {
   "cell_type": "code",
   "execution_count": 174,
   "id": "b10f60cd",
   "metadata": {},
   "outputs": [
    {
     "name": "stdout",
     "output_type": "stream",
     "text": [
      "square:  [4, 16, 25, 36, 49, 64, 81]\n",
      "half:  [1.0, 2.0, 2.5, 3.0, 3.5, 4.0, 4.5]\n"
     ]
    }
   ],
   "source": [
    "squared = [item**2 for item in my_list]\n",
    "print(\"square: \", squared)\n",
    "\n",
    "half = [item/2 for item in my_list]\n",
    "print(\"half: \", half)"
   ]
  },
  {
   "cell_type": "markdown",
   "id": "666fb0ce",
   "metadata": {},
   "source": [
    "#### Checking membership"
   ]
  },
  {
   "cell_type": "code",
   "execution_count": 175,
   "id": "528e671e",
   "metadata": {},
   "outputs": [
    {
     "name": "stdout",
     "output_type": "stream",
     "text": [
      "True\n",
      "True\n"
     ]
    }
   ],
   "source": [
    "print(5 in my_list)   # True if 5 exists\n",
    "print(100 not in my_list)  # True if 100 does not exist"
   ]
  },
  {
   "cell_type": "markdown",
   "id": "f088fc5a",
   "metadata": {},
   "source": [
    "#### List methods"
   ]
  },
  {
   "cell_type": "code",
   "execution_count": 176,
   "id": "1b7d9c84",
   "metadata": {},
   "outputs": [
    {
     "name": "stdout",
     "output_type": "stream",
     "text": [
      "1\n",
      "4\n",
      "[9, 8, 7, 6, 5, 4, 2]\n"
     ]
    }
   ],
   "source": [
    "my_list.sort()  # Sort list\n",
    "my_list.reverse()  # Reverse list\n",
    "print(my_list.count(4))  # Count occurrences of 4\n",
    "print(my_list.index(5))  # Find index of element 5\n",
    "copied_list = my_list.copy()  # Copy list\n",
    "my_list.clear()  # Clear list\n",
    "print(copied_list)"
   ]
  },
  {
   "cell_type": "markdown",
   "id": "86d1904e",
   "metadata": {},
   "source": [
    "#### Nested lists"
   ]
  },
  {
   "cell_type": "code",
   "execution_count": 177,
   "id": "d8f01789",
   "metadata": {},
   "outputs": [
    {
     "name": "stdout",
     "output_type": "stream",
     "text": [
      "6\n"
     ]
    }
   ],
   "source": [
    "nested_list = [[1, 2, 3], [4, 5, 6]]\n",
    "print(nested_list[1][2])  # Access element in nested list"
   ]
  },
  {
   "cell_type": "markdown",
   "id": "eeb9125b",
   "metadata": {},
   "source": [
    "#### List vs. Tuple"
   ]
  },
  {
   "cell_type": "code",
   "execution_count": 178,
   "id": "d9a507e5",
   "metadata": {},
   "outputs": [
    {
     "name": "stdout",
     "output_type": "stream",
     "text": [
      "(1, 2, 3)\n"
     ]
    }
   ],
   "source": [
    "my_tuple = (1, 2, 3)  # Immutable tuple\n",
    "print(my_tuple)"
   ]
  },
  {
   "cell_type": "markdown",
   "id": "fcf6ae56",
   "metadata": {},
   "source": [
    "#### Common built-in functions"
   ]
  },
  {
   "cell_type": "code",
   "execution_count": 179,
   "id": "438b0e15",
   "metadata": {},
   "outputs": [
    {
     "name": "stdout",
     "output_type": "stream",
     "text": [
      "7\n",
      "2\n",
      "9\n",
      "41\n"
     ]
    }
   ],
   "source": [
    "print(len(copied_list))  # Length of list\n",
    "print(min(copied_list))  # Minimum value\n",
    "print(max(copied_list))  # Maximum value\n",
    "print(sum(copied_list))  # Sum of elements"
   ]
  },
  {
   "cell_type": "markdown",
   "id": "86e0a4f4",
   "metadata": {},
   "source": [
    "## Tuple"
   ]
  },
  {
   "cell_type": "markdown",
   "id": "0fcdc767",
   "metadata": {},
   "source": [
    "#### Creating a Tuple"
   ]
  },
  {
   "cell_type": "code",
   "execution_count": 180,
   "id": "4db639cc",
   "metadata": {},
   "outputs": [
    {
     "name": "stdout",
     "output_type": "stream",
     "text": [
      "(12, 3, 4, 5, 100, 99)\n"
     ]
    }
   ],
   "source": [
    "my_tuple = (12,3,4,5,100,99)\n",
    "print(my_tuple)"
   ]
  },
  {
   "cell_type": "markdown",
   "id": "4f045fe0",
   "metadata": {},
   "source": [
    "#### Access elements"
   ]
  },
  {
   "cell_type": "code",
   "execution_count": 181,
   "id": "5b0dade0",
   "metadata": {},
   "outputs": [
    {
     "name": "stdout",
     "output_type": "stream",
     "text": [
      "1\n",
      "5\n"
     ]
    }
   ],
   "source": [
    "my_tuple = (1, 2, 3, 4, 5)\n",
    "print(my_tuple[0])  # First element\n",
    "print(my_tuple[-1])  # Last element"
   ]
  },
  {
   "cell_type": "markdown",
   "id": "0314e16e",
   "metadata": {},
   "source": [
    "#### Check for membership"
   ]
  },
  {
   "cell_type": "code",
   "execution_count": 182,
   "id": "7be53d78",
   "metadata": {},
   "outputs": [
    {
     "name": "stdout",
     "output_type": "stream",
     "text": [
      "True\n",
      "True\n"
     ]
    }
   ],
   "source": [
    "my_tuple = (1, 2, 3, 4, 5)\n",
    "print(3 in my_tuple)   # True if 3 exists\n",
    "print(100 not in my_tuple)  # True if 100 does not exist"
   ]
  },
  {
   "cell_type": "markdown",
   "id": "e4ffd50e",
   "metadata": {},
   "source": [
    "#### Tuple methods"
   ]
  },
  {
   "cell_type": "code",
   "execution_count": 183,
   "id": "2c5e0e2b",
   "metadata": {},
   "outputs": [
    {
     "name": "stdout",
     "output_type": "stream",
     "text": [
      "2\n",
      "3\n"
     ]
    }
   ],
   "source": [
    "my_tuple = (1, 2, 3, 4, 5, 2)\n",
    "print(my_tuple.count(2))  # Count occurrences of 2\n",
    "print(my_tuple.index(4))  # Find index of element 4"
   ]
  },
  {
   "cell_type": "markdown",
   "id": "f8dd7e71",
   "metadata": {},
   "source": [
    "#### Nested Tuple"
   ]
  },
  {
   "cell_type": "code",
   "execution_count": 184,
   "id": "0434ff4d",
   "metadata": {},
   "outputs": [
    {
     "name": "stdout",
     "output_type": "stream",
     "text": [
      "6\n"
     ]
    }
   ],
   "source": [
    "nested_tuple = ((1, 2, 3), (4, 5, 6))\n",
    "print(nested_tuple[1][2])  # Access element in nested tuple"
   ]
  },
  {
   "cell_type": "markdown",
   "id": "1a80653d",
   "metadata": {},
   "source": [
    "#### Tuple VS List \n",
    "We can convert a tuple to a list for modification.\n",
    "Tuples are immutable and lists are mutable\n",
    "\n"
   ]
  },
  {
   "cell_type": "code",
   "execution_count": 185,
   "id": "0bce249b",
   "metadata": {},
   "outputs": [
    {
     "name": "stdout",
     "output_type": "stream",
     "text": [
      "[1, 2, 3, 4, 5]\n"
     ]
    }
   ],
   "source": [
    "my_tuple = (1, 2, 3, 4, 5)\n",
    "my_list = list(my_tuple)  # Convert tuple to list (for modification)\n",
    "print(my_list)"
   ]
  },
  {
   "cell_type": "markdown",
   "id": "7cb77f6b",
   "metadata": {},
   "source": [
    "#### built - in functions"
   ]
  },
  {
   "cell_type": "code",
   "execution_count": 186,
   "id": "6b706146",
   "metadata": {},
   "outputs": [
    {
     "name": "stdout",
     "output_type": "stream",
     "text": [
      "5\n",
      "1\n",
      "5\n",
      "15\n"
     ]
    }
   ],
   "source": [
    "my_tuple = (1, 2, 3, 4, 5)\n",
    "print(len(my_tuple))  # Length of tuple\n",
    "print(min(my_tuple))  # Minimum value\n",
    "print(max(my_tuple))  # Maximum value\n",
    "print(sum(my_tuple))  # Sum of elements"
   ]
  },
  {
   "cell_type": "markdown",
   "id": "ee116b90",
   "metadata": {},
   "source": [
    "## Set\n",
    "\n",
    "No duplicates allowed in set"
   ]
  },
  {
   "cell_type": "markdown",
   "id": "3d35b655",
   "metadata": {},
   "source": [
    "#### Creating Set"
   ]
  },
  {
   "cell_type": "code",
   "execution_count": 187,
   "id": "238b7fe6",
   "metadata": {},
   "outputs": [
    {
     "name": "stdout",
     "output_type": "stream",
     "text": [
      "Set: {1, 2, 3, 4, 5}\n",
      "Using set constructor: {1, 2, 3, 4, 5}\n"
     ]
    }
   ],
   "source": [
    "my_set = {1, 2, 3, 4, 5}\n",
    "print(\"Set:\", my_set)\n",
    "\n",
    "another_set = set([1, 2, 3, 4, 5, 3, 2])  # Duplicates are removed\n",
    "print(\"Using set constructor:\", another_set)"
   ]
  },
  {
   "cell_type": "markdown",
   "id": "cea5f5e8",
   "metadata": {},
   "source": [
    "#### Accessing Elements (Iteration)"
   ]
  },
  {
   "cell_type": "code",
   "execution_count": 188,
   "id": "bd03b9a4",
   "metadata": {},
   "outputs": [
    {
     "name": "stdout",
     "output_type": "stream",
     "text": [
      "Iterating: 1\n",
      "Iterating: 2\n",
      "Iterating: 3\n",
      "Iterating: 4\n",
      "Iterating: 5\n"
     ]
    }
   ],
   "source": [
    "for item in my_set:\n",
    "    print(\"Iterating:\", item)  # Access elements using a loop"
   ]
  },
  {
   "cell_type": "markdown",
   "id": "839e4973",
   "metadata": {},
   "source": [
    "#### Modifying a Set"
   ]
  },
  {
   "cell_type": "code",
   "execution_count": 189,
   "id": "c0efe077",
   "metadata": {},
   "outputs": [
    {
     "name": "stdout",
     "output_type": "stream",
     "text": [
      "After add: {1, 2, 3, 4, 5, 6}\n",
      "After remove: {1, 3, 4, 5, 6}\n",
      "After discard: {1, 3, 4, 5, 6}\n",
      "Popped value: 1\n",
      "Set after pop: {3, 4, 5, 6}\n",
      "After clear: set()\n"
     ]
    }
   ],
   "source": [
    "my_set.add(6)  # Adding an element\n",
    "print(\"After add:\", my_set)\n",
    "\n",
    "my_set.remove(2)  # Removing an element (raises error if not found)\n",
    "print(\"After remove:\", my_set)\n",
    "\n",
    "my_set.discard(10)  # Doesn't raise error if element is absent\n",
    "print(\"After discard:\", my_set)\n",
    "\n",
    "popped_value = my_set.pop()  # Removes a random element\n",
    "print(\"Popped value:\", popped_value)\n",
    "print(\"Set after pop:\", my_set)\n",
    "\n",
    "my_set.clear()  # Removes all elements\n",
    "print(\"After clear:\", my_set)"
   ]
  },
  {
   "cell_type": "markdown",
   "id": "090a4492",
   "metadata": {},
   "source": [
    "#### Set Operations"
   ]
  },
  {
   "cell_type": "code",
   "execution_count": 190,
   "id": "1fb9ab48",
   "metadata": {},
   "outputs": [
    {
     "name": "stdout",
     "output_type": "stream",
     "text": [
      "Union: {1, 2, 3, 4, 5, 6}\n",
      "Intersection: {3, 4}\n",
      "Difference: {1, 2}\n",
      "Symmetric Difference: {1, 2, 5, 6}\n"
     ]
    }
   ],
   "source": [
    "set_a = {1, 2, 3, 4}\n",
    "set_b = {3, 4, 5, 6}\n",
    "\n",
    "print(\"Union:\", set_a | set_b)  # Union (All unique elements)\n",
    "print(\"Intersection:\", set_a & set_b)  # Intersection (Common elements)\n",
    "print(\"Difference:\", set_a - set_b)  # Elements in set_a but not in set_b\n",
    "print(\"Symmetric Difference:\", set_a ^ set_b)  # Elements in either set but not both"
   ]
  },
  {
   "cell_type": "markdown",
   "id": "3876e049",
   "metadata": {},
   "source": [
    "#### Checking Membership"
   ]
  },
  {
   "cell_type": "code",
   "execution_count": 191,
   "id": "bb2fc7ae",
   "metadata": {},
   "outputs": [
    {
     "name": "stdout",
     "output_type": "stream",
     "text": [
      "Is 3 in the set? True\n",
      "Is 100 not in the set? True\n"
     ]
    }
   ],
   "source": [
    "my_set = {1, 2, 3, 4, 5}\n",
    "print(\"Is 3 in the set?\", 3 in my_set)\n",
    "print(\"Is 100 not in the set?\", 100 not in my_set)"
   ]
  },
  {
   "cell_type": "markdown",
   "id": "57f65572",
   "metadata": {},
   "source": [
    "#### Set Methods"
   ]
  },
  {
   "cell_type": "code",
   "execution_count": 192,
   "id": "0c71126e",
   "metadata": {},
   "outputs": [
    {
     "name": "stdout",
     "output_type": "stream",
     "text": [
      "Copied set: {1, 2, 3, 4, 5}\n",
      "Length of set: 5\n",
      "Max of set: 5\n",
      "Min of set: 1\n",
      "Sum of set: 15\n"
     ]
    }
   ],
   "source": [
    "copied_set = my_set.copy()  # Copying a set\n",
    "print(\"Copied set:\", copied_set)\n",
    "\n",
    "print(\"Length of set:\", len(my_set))\n",
    "print(\"Max of set:\", max(my_set))\n",
    "print(\"Min of set:\", min(my_set))\n",
    "print(\"Sum of set:\", sum(my_set))"
   ]
  },
  {
   "cell_type": "markdown",
   "id": "6a7446bc",
   "metadata": {},
   "source": [
    "# Dictionary"
   ]
  },
  {
   "cell_type": "markdown",
   "id": "572736b4",
   "metadata": {},
   "source": [
    "#### Creating Dictionary"
   ]
  },
  {
   "cell_type": "code",
   "execution_count": 193,
   "id": "3a48970d",
   "metadata": {},
   "outputs": [
    {
     "name": "stdout",
     "output_type": "stream",
     "text": [
      "{'name': 'Alice', 'age': 25, 'city': 'New York'}\n",
      "{'name': 'Bob', 'age': 30, 'city': 'London'}\n"
     ]
    }
   ],
   "source": [
    "my_dict = {\"name\": \"Alice\", \"age\": 25, \"city\": \"New York\"}\n",
    "print(my_dict)\n",
    "\n",
    "# Using dict() constructor\n",
    "another_dict = dict(name=\"Bob\", age=30, city=\"London\")\n",
    "print(another_dict)"
   ]
  },
  {
   "cell_type": "markdown",
   "id": "b0225cb6",
   "metadata": {},
   "source": [
    "#### Access"
   ]
  },
  {
   "cell_type": "code",
   "execution_count": 194,
   "id": "ffe82e92",
   "metadata": {},
   "outputs": [
    {
     "name": "stdout",
     "output_type": "stream",
     "text": [
      "Alice\n",
      "25\n"
     ]
    }
   ],
   "source": [
    "my_dict = {\"name\": \"Alice\", \"age\": 25, \"city\": \"New York\"}\n",
    "print(my_dict[\"name\"])  # Access value by key\n",
    "print(my_dict.get(\"age\"))  # Using get() method (avoids KeyError)"
   ]
  },
  {
   "cell_type": "markdown",
   "id": "b419c1d6",
   "metadata": {},
   "source": [
    "#### Modify"
   ]
  },
  {
   "cell_type": "code",
   "execution_count": 195,
   "id": "072e84cb",
   "metadata": {},
   "outputs": [
    {
     "name": "stdout",
     "output_type": "stream",
     "text": [
      "{'name': 'Alice', 'age': 26, 'city': 'New York'}\n"
     ]
    }
   ],
   "source": [
    "my_dict = {\"name\": \"Alice\", \"age\": 25, \"city\": \"New York\"}\n",
    "my_dict[\"age\"] = 26  # Modify an existing key-value pair\n",
    "print(my_dict)"
   ]
  },
  {
   "cell_type": "markdown",
   "id": "e000b7f9",
   "metadata": {},
   "source": [
    "#### Add new data"
   ]
  },
  {
   "cell_type": "code",
   "execution_count": 196,
   "id": "cea7adb2",
   "metadata": {},
   "outputs": [
    {
     "name": "stdout",
     "output_type": "stream",
     "text": [
      "{'name': 'Alice', 'age': 25, 'city': 'New York', 'country': 'USA'}\n"
     ]
    }
   ],
   "source": [
    "my_dict = {\"name\": \"Alice\", \"age\": 25, \"city\": \"New York\"}\n",
    "my_dict[\"country\"] = \"USA\"  # Add a new key-value pair\n",
    "print(my_dict)"
   ]
  },
  {
   "cell_type": "markdown",
   "id": "ed512259",
   "metadata": {},
   "source": [
    "#### Delete Data"
   ]
  },
  {
   "cell_type": "code",
   "execution_count": 197,
   "id": "f90f446b",
   "metadata": {},
   "outputs": [
    {
     "name": "stdout",
     "output_type": "stream",
     "text": [
      "{'name': 'Alice', 'age': 25}\n",
      "Removed: 25\n",
      "{'name': 'Alice'}\n",
      "{}\n"
     ]
    }
   ],
   "source": [
    "my_dict = {\"name\": \"Alice\", \"age\": 25, \"city\": \"New York\"}\n",
    "del my_dict[\"city\"]  # Delete a key-value pair\n",
    "print(my_dict)\n",
    "\n",
    "removed_value = my_dict.pop(\"age\")  # Remove and return a value\n",
    "print(\"Removed:\", removed_value)\n",
    "print(my_dict)\n",
    "\n",
    "my_dict.clear()  # Remove all elements\n",
    "print(my_dict)\n"
   ]
  },
  {
   "cell_type": "markdown",
   "id": "e52046a6",
   "metadata": {},
   "source": [
    "#### Iterate"
   ]
  },
  {
   "cell_type": "code",
   "execution_count": 198,
   "id": "a3c36ef6",
   "metadata": {},
   "outputs": [
    {
     "name": "stdout",
     "output_type": "stream",
     "text": [
      "Key: name Value: Alice\n",
      "Key: age Value: 25\n",
      "Key: city Value: New York\n",
      "\n",
      "\n",
      "Key-Value: name Alice\n",
      "Key-Value: age 25\n",
      "Key-Value: city New York\n"
     ]
    }
   ],
   "source": [
    "my_dict = {\"name\": \"Alice\", \"age\": 25, \"city\": \"New York\"}\n",
    "for key in my_dict:\n",
    "    print(\"Key:\", key, \"Value:\", my_dict[key])\n",
    "\n",
    "print(\"\\n\")\n",
    "\n",
    "for key, value in my_dict.items():\n",
    "    print(\"Key-Value:\", key, value)"
   ]
  },
  {
   "cell_type": "markdown",
   "id": "209790e3",
   "metadata": {},
   "source": [
    "#### Dictionary Comprehension"
   ]
  },
  {
   "cell_type": "code",
   "execution_count": 199,
   "id": "29b4949b",
   "metadata": {},
   "outputs": [
    {
     "name": "stdout",
     "output_type": "stream",
     "text": [
      "{1: 1, 2: 4, 3: 9, 4: 16, 5: 25}\n"
     ]
    }
   ],
   "source": [
    "squared_numbers = {x: x**2 for x in range(1, 6)}\n",
    "print(squared_numbers)"
   ]
  },
  {
   "cell_type": "markdown",
   "id": "c69ac7c9",
   "metadata": {},
   "source": [
    "#### Membership"
   ]
  },
  {
   "cell_type": "code",
   "execution_count": 200,
   "id": "30e2bed5",
   "metadata": {},
   "outputs": [
    {
     "name": "stdout",
     "output_type": "stream",
     "text": [
      "Is 'name' a key? True\n",
      "Is 'salary' not a key? True\n"
     ]
    }
   ],
   "source": [
    "my_dict = {\"name\": \"Alice\", \"age\": 25, \"city\": \"New York\"}\n",
    "print(\"Is 'name' a key?\", \"name\" in my_dict)\n",
    "print(\"Is 'salary' not a key?\", \"salary\" not in my_dict)\n"
   ]
  },
  {
   "cell_type": "markdown",
   "id": "90d76581",
   "metadata": {},
   "source": [
    "#### Methods"
   ]
  },
  {
   "cell_type": "code",
   "execution_count": 201,
   "id": "aa8db31d",
   "metadata": {},
   "outputs": [
    {
     "name": "stdout",
     "output_type": "stream",
     "text": [
      "dict_keys(['name', 'age', 'city'])\n",
      "dict_values(['Alice', 25, 'New York'])\n",
      "dict_items([('name', 'Alice'), ('age', 25), ('city', 'New York')])\n",
      "{'name': 'Alice', 'age': 25, 'city': 'New York'}\n",
      "{'name': 'Alice', 'age': 28, 'salary': 5000}\n"
     ]
    }
   ],
   "source": [
    "my_dict = {\"name\": \"Alice\", \"age\": 25, \"city\": \"New York\"}\n",
    "print(my_dict.keys())  # Get all keys\n",
    "print(my_dict.values())  # Get all values\n",
    "print(my_dict.items())  # Get all key-value pairs\n",
    "\n",
    "my_dict = {\"name\": \"Alice\", \"age\": 25, \"city\": \"New York\"}\n",
    "copied_dict = my_dict.copy()  # Copy dictionary\n",
    "print(copied_dict)\n",
    "\n",
    "my_dict = {\"name\": \"Alice\", \"age\": 25}\n",
    "new_data = {\"salary\": 5000, \"age\": 28}\n",
    "my_dict.update(new_data)  # Merge dictionaries\n",
    "print(my_dict)"
   ]
  },
  {
   "cell_type": "markdown",
   "id": "459d9b71",
   "metadata": {},
   "source": [
    "#### Nested"
   ]
  },
  {
   "cell_type": "code",
   "execution_count": 202,
   "id": "ca694633",
   "metadata": {},
   "outputs": [
    {
     "name": "stdout",
     "output_type": "stream",
     "text": [
      "person1:\n",
      "  name: Alice\n",
      "  age: 25\n",
      "person2:\n",
      "  name: Bob\n",
      "  age: 30\n"
     ]
    }
   ],
   "source": [
    "nested_dict = {\n",
    "    \"person1\": {\"name\": \"Alice\", \"age\": 25},\n",
    "    \"person2\": {\"name\": \"Bob\", \"age\": 30},\n",
    "}\n",
    "\n",
    "# Iterating through the nested dictionary to display all values\n",
    "for person, details in nested_dict.items():\n",
    "    print(f\"{person}:\")\n",
    "    for key, value in details.items():\n",
    "        print(f\"  {key}: {value}\")"
   ]
  }
 ],
 "metadata": {
  "kernelspec": {
   "display_name": "Python 3",
   "language": "python",
   "name": "python3"
  },
  "language_info": {
   "codemirror_mode": {
    "name": "ipython",
    "version": 3
   },
   "file_extension": ".py",
   "mimetype": "text/x-python",
   "name": "python",
   "nbconvert_exporter": "python",
   "pygments_lexer": "ipython3",
   "version": "3.13.1"
  }
 },
 "nbformat": 4,
 "nbformat_minor": 5
}
