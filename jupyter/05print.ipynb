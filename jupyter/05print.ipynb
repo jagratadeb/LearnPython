{
 "cells": [
  {
   "cell_type": "markdown",
   "id": "c658dfe5",
   "metadata": {},
   "source": [
    "## Printing"
   ]
  },
  {
   "cell_type": "code",
   "execution_count": 7,
   "id": "877add54",
   "metadata": {},
   "outputs": [
    {
     "name": "stdout",
     "output_type": "stream",
     "text": [
      "Hello, World!\n"
     ]
    }
   ],
   "source": [
    "# Basic Print Statements\n",
    "print(\"Hello, World!\")  # Simple text output"
   ]
  },
  {
   "cell_type": "code",
   "execution_count": 8,
   "id": "6a339c22",
   "metadata": {},
   "outputs": [
    {
     "name": "stdout",
     "output_type": "stream",
     "text": [
      "Welcome to Python!\n"
     ]
    }
   ],
   "source": [
    "# Printing with a variable\n",
    "message = \"Welcome to Python!\"\n",
    "print(message)"
   ]
  },
  {
   "cell_type": "code",
   "execution_count": 9,
   "id": "7a567480",
   "metadata": {},
   "outputs": [
    {
     "name": "stdout",
     "output_type": "stream",
     "text": [
      "Sum: 5\n"
     ]
    }
   ],
   "source": [
    "# Printing multiple values\n",
    "num1, num2 = 2, 3\n",
    "print(\"Sum:\", num1 + num2)"
   ]
  },
  {
   "cell_type": "code",
   "execution_count": 10,
   "id": "3363301d",
   "metadata": {},
   "outputs": [
    {
     "name": "stdout",
     "output_type": "stream",
     "text": [
      "My name is Jagrata, and I am 21 years old.\n"
     ]
    }
   ],
   "source": [
    "# Using f-strings for better formatting\n",
    "name = \"Jagrata\"\n",
    "age = 21\n",
    "print(f\"My name is {name}, and I am {age} years old.\")"
   ]
  },
  {
   "cell_type": "code",
   "execution_count": 11,
   "id": "74abd1d2",
   "metadata": {},
   "outputs": [
    {
     "name": "stdout",
     "output_type": "stream",
     "text": [
      "Python is fun!\n",
      "Let's learn more.\n",
      "This is a tab\tbetween words.\n"
     ]
    }
   ],
   "source": [
    "# Using escape characters\n",
    "print(\"Python is fun!\\nLet's learn more.\")  # New line\n",
    "print(\"This is a tab\\tbetween words.\")  # Tab space"
   ]
  },
  {
   "cell_type": "code",
   "execution_count": 12,
   "id": "da1e3527",
   "metadata": {},
   "outputs": [
    {
     "name": "stdout",
     "output_type": "stream",
     "text": [
      "I said, \"Python is awesome!\"\n",
      "File path: C:\\Users\\Documents\\file.txt\n"
     ]
    }
   ],
   "source": [
    "# Printing special characters\n",
    "print(\"I said, \\\"Python is awesome!\\\"\")  # Quotes inside a string\n",
    "print(\"File path: C:\\\\Users\\\\Documents\\\\file.txt\")  # Backslash usage\n"
   ]
  },
  {
   "cell_type": "markdown",
   "id": "1a569a4a",
   "metadata": {},
   "source": []
  }
 ],
 "metadata": {
  "kernelspec": {
   "display_name": "Python 3",
   "language": "python",
   "name": "python3"
  },
  "language_info": {
   "codemirror_mode": {
    "name": "ipython",
    "version": 3
   },
   "file_extension": ".py",
   "mimetype": "text/x-python",
   "name": "python",
   "nbconvert_exporter": "python",
   "pygments_lexer": "ipython3",
   "version": "3.13.1"
  }
 },
 "nbformat": 4,
 "nbformat_minor": 5
}
