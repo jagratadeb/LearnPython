{
 "cells": [
  {
   "cell_type": "markdown",
   "id": "2de65118",
   "metadata": {},
   "source": [
    "# Inbuilt Data Structures\n",
    "\n",
    "## List "
   ]
  },
  {
   "cell_type": "markdown",
   "id": "6aad67bb",
   "metadata": {},
   "source": [
    "#### Creating a list"
   ]
  },
  {
   "cell_type": "code",
   "execution_count": 52,
   "id": "68561cdd",
   "metadata": {},
   "outputs": [
    {
     "name": "stdout",
     "output_type": "stream",
     "text": [
      "[1, 2, 3, 4, 5]\n",
      "<class 'type'>\n"
     ]
    }
   ],
   "source": [
    "my_list = [1, 2, 3, 4, 5]\n",
    "print(my_list)\n",
    "print(type(list))"
   ]
  },
  {
   "cell_type": "markdown",
   "id": "2297fcda",
   "metadata": {},
   "source": [
    "#### Accessing elements (indexing & slicing)"
   ]
  },
  {
   "cell_type": "code",
   "execution_count": 53,
   "id": "5c4f21a8",
   "metadata": {},
   "outputs": [
    {
     "name": "stdout",
     "output_type": "stream",
     "text": [
      "1\n",
      "5\n",
      "[2, 3, 4]\n"
     ]
    }
   ],
   "source": [
    "print(my_list[0])  # First element\n",
    "print(my_list[-1])  # Last element\n",
    "print(my_list[1:4])  # Slice from index 1 to 3"
   ]
  },
  {
   "cell_type": "markdown",
   "id": "c5bf2590",
   "metadata": {},
   "source": [
    "#### Modifying"
   ]
  },
  {
   "cell_type": "code",
   "execution_count": 54,
   "id": "e726277f",
   "metadata": {},
   "outputs": [
    {
     "name": "stdout",
     "output_type": "stream",
     "text": [
      "[1, 2, 10, 4, 5]\n",
      "[1, 2, 99, 10, 4, 5, 6, 7, 8, 9]\n",
      "[2, 4, 5, 6, 7, 8, 9]\n"
     ]
    }
   ],
   "source": [
    "# Modifying elements\n",
    "my_list[2] = 10  # Change element at index 2\n",
    "print(my_list)\n",
    "\n",
    "# Adding elements\n",
    "my_list.append(6)  # Append element\n",
    "my_list.insert(2, 99)  # Insert at index 2\n",
    "my_list.extend([7, 8, 9])  # Extend list\n",
    "print(my_list)\n",
    "\n",
    "# Removing elements\n",
    "my_list.remove(99)  # Remove specific element\n",
    "popped_value = my_list.pop(2)  # Pop at index 2\n",
    "del my_list[0]  # Delete element at index 0\n",
    "print(my_list)"
   ]
  },
  {
   "cell_type": "markdown",
   "id": "aeb16c48",
   "metadata": {},
   "source": [
    "#### Iterating through a list"
   ]
  },
  {
   "cell_type": "code",
   "execution_count": 55,
   "id": "91c3948e",
   "metadata": {},
   "outputs": [
    {
     "name": "stdout",
     "output_type": "stream",
     "text": [
      "2\n",
      "4\n",
      "5\n",
      "6\n",
      "7\n",
      "8\n",
      "9\n"
     ]
    }
   ],
   "source": [
    "for item in my_list:\n",
    "    print(item)"
   ]
  },
  {
   "cell_type": "markdown",
   "id": "130b2f60",
   "metadata": {},
   "source": [
    "#### List comprehensions"
   ]
  },
  {
   "cell_type": "code",
   "execution_count": 56,
   "id": "b10f60cd",
   "metadata": {},
   "outputs": [
    {
     "name": "stdout",
     "output_type": "stream",
     "text": [
      "square:  [4, 16, 25, 36, 49, 64, 81]\n",
      "half:  [1.0, 2.0, 2.5, 3.0, 3.5, 4.0, 4.5]\n"
     ]
    }
   ],
   "source": [
    "squared = [item**2 for item in my_list]\n",
    "print(\"square: \", squared)\n",
    "\n",
    "half = [item/2 for item in my_list]\n",
    "print(\"half: \", half)"
   ]
  },
  {
   "cell_type": "markdown",
   "id": "666fb0ce",
   "metadata": {},
   "source": [
    "#### Checking membership"
   ]
  },
  {
   "cell_type": "code",
   "execution_count": 57,
   "id": "528e671e",
   "metadata": {},
   "outputs": [
    {
     "name": "stdout",
     "output_type": "stream",
     "text": [
      "True\n",
      "True\n"
     ]
    }
   ],
   "source": [
    "print(5 in my_list)   # True if 5 exists\n",
    "print(100 not in my_list)  # True if 100 does not exist"
   ]
  },
  {
   "cell_type": "markdown",
   "id": "f088fc5a",
   "metadata": {},
   "source": [
    "#### List methods"
   ]
  },
  {
   "cell_type": "code",
   "execution_count": 58,
   "id": "1b7d9c84",
   "metadata": {},
   "outputs": [
    {
     "name": "stdout",
     "output_type": "stream",
     "text": [
      "1\n",
      "4\n",
      "[9, 8, 7, 6, 5, 4, 2]\n"
     ]
    }
   ],
   "source": [
    "my_list.sort()  # Sort list\n",
    "my_list.reverse()  # Reverse list\n",
    "print(my_list.count(4))  # Count occurrences of 4\n",
    "print(my_list.index(5))  # Find index of element 5\n",
    "copied_list = my_list.copy()  # Copy list\n",
    "my_list.clear()  # Clear list\n",
    "print(copied_list)"
   ]
  },
  {
   "cell_type": "markdown",
   "id": "86d1904e",
   "metadata": {},
   "source": [
    "#### Nested lists"
   ]
  },
  {
   "cell_type": "code",
   "execution_count": 59,
   "id": "d8f01789",
   "metadata": {},
   "outputs": [
    {
     "name": "stdout",
     "output_type": "stream",
     "text": [
      "6\n"
     ]
    }
   ],
   "source": [
    "nested_list = [[1, 2, 3], [4, 5, 6]]\n",
    "print(nested_list[1][2])  # Access element in nested list"
   ]
  },
  {
   "cell_type": "markdown",
   "id": "eeb9125b",
   "metadata": {},
   "source": [
    "#### List vs. Tuple"
   ]
  },
  {
   "cell_type": "code",
   "execution_count": 60,
   "id": "d9a507e5",
   "metadata": {},
   "outputs": [
    {
     "name": "stdout",
     "output_type": "stream",
     "text": [
      "(1, 2, 3)\n"
     ]
    }
   ],
   "source": [
    "my_tuple = (1, 2, 3)  # Immutable tuple\n",
    "print(my_tuple)"
   ]
  },
  {
   "cell_type": "markdown",
   "id": "fcf6ae56",
   "metadata": {},
   "source": [
    "#### Common built-in functions"
   ]
  },
  {
   "cell_type": "code",
   "execution_count": 61,
   "id": "438b0e15",
   "metadata": {},
   "outputs": [
    {
     "name": "stdout",
     "output_type": "stream",
     "text": [
      "7\n",
      "2\n",
      "9\n",
      "41\n"
     ]
    }
   ],
   "source": [
    "print(len(copied_list))  # Length of list\n",
    "print(min(copied_list))  # Minimum value\n",
    "print(max(copied_list))  # Maximum value\n",
    "print(sum(copied_list))  # Sum of elements"
   ]
  },
  {
   "cell_type": "markdown",
   "id": "86e0a4f4",
   "metadata": {},
   "source": [
    "## Tuple"
   ]
  },
  {
   "cell_type": "markdown",
   "id": "0fcdc767",
   "metadata": {},
   "source": [
    "#### Creating a Tuple"
   ]
  },
  {
   "cell_type": "code",
   "execution_count": 62,
   "id": "4db639cc",
   "metadata": {},
   "outputs": [
    {
     "name": "stdout",
     "output_type": "stream",
     "text": [
      "(12, 3, 4, 5, 100, 99)\n"
     ]
    }
   ],
   "source": [
    "my_tuple = (12,3,4,5,100,99)\n",
    "print(my_tuple)"
   ]
  },
  {
   "cell_type": "markdown",
   "id": "4f045fe0",
   "metadata": {},
   "source": [
    "#### Access elements"
   ]
  },
  {
   "cell_type": "code",
   "execution_count": 63,
   "id": "5b0dade0",
   "metadata": {},
   "outputs": [
    {
     "name": "stdout",
     "output_type": "stream",
     "text": [
      "1\n",
      "5\n"
     ]
    }
   ],
   "source": [
    "my_tuple = (1, 2, 3, 4, 5)\n",
    "print(my_tuple[0])  # First element\n",
    "print(my_tuple[-1])  # Last element"
   ]
  },
  {
   "cell_type": "markdown",
   "id": "0314e16e",
   "metadata": {},
   "source": [
    "#### Check for membership"
   ]
  },
  {
   "cell_type": "code",
   "execution_count": 64,
   "id": "7be53d78",
   "metadata": {},
   "outputs": [
    {
     "name": "stdout",
     "output_type": "stream",
     "text": [
      "True\n",
      "True\n"
     ]
    }
   ],
   "source": [
    "my_tuple = (1, 2, 3, 4, 5)\n",
    "print(3 in my_tuple)   # True if 3 exists\n",
    "print(100 not in my_tuple)  # True if 100 does not exist"
   ]
  },
  {
   "cell_type": "markdown",
   "id": "e4ffd50e",
   "metadata": {},
   "source": [
    "#### Tuple methods"
   ]
  },
  {
   "cell_type": "code",
   "execution_count": 65,
   "id": "2c5e0e2b",
   "metadata": {},
   "outputs": [
    {
     "name": "stdout",
     "output_type": "stream",
     "text": [
      "2\n",
      "3\n"
     ]
    }
   ],
   "source": [
    "my_tuple = (1, 2, 3, 4, 5, 2)\n",
    "print(my_tuple.count(2))  # Count occurrences of 2\n",
    "print(my_tuple.index(4))  # Find index of element 4"
   ]
  },
  {
   "cell_type": "markdown",
   "id": "f8dd7e71",
   "metadata": {},
   "source": [
    "#### Nested Tuple"
   ]
  },
  {
   "cell_type": "code",
   "execution_count": 66,
   "id": "0434ff4d",
   "metadata": {},
   "outputs": [
    {
     "name": "stdout",
     "output_type": "stream",
     "text": [
      "6\n"
     ]
    }
   ],
   "source": [
    "nested_tuple = ((1, 2, 3), (4, 5, 6))\n",
    "print(nested_tuple[1][2])  # Access element in nested tuple"
   ]
  },
  {
   "cell_type": "markdown",
   "id": "1a80653d",
   "metadata": {},
   "source": [
    "#### Tuple VS List \n",
    "We can convert a tuple to a list for modification.\n",
    "Tuples are immutable and lists are mutable\n",
    "\n"
   ]
  },
  {
   "cell_type": "code",
   "execution_count": 67,
   "id": "0bce249b",
   "metadata": {},
   "outputs": [
    {
     "name": "stdout",
     "output_type": "stream",
     "text": [
      "[1, 2, 3, 4, 5]\n"
     ]
    }
   ],
   "source": [
    "my_tuple = (1, 2, 3, 4, 5)\n",
    "my_list = list(my_tuple)  # Convert tuple to list (for modification)\n",
    "print(my_list)"
   ]
  },
  {
   "cell_type": "markdown",
   "id": "7cb77f6b",
   "metadata": {},
   "source": [
    "#### built - in functions"
   ]
  },
  {
   "cell_type": "code",
   "execution_count": 68,
   "id": "6b706146",
   "metadata": {},
   "outputs": [
    {
     "name": "stdout",
     "output_type": "stream",
     "text": [
      "5\n",
      "1\n",
      "5\n",
      "15\n"
     ]
    }
   ],
   "source": [
    "my_tuple = (1, 2, 3, 4, 5)\n",
    "print(len(my_tuple))  # Length of tuple\n",
    "print(min(my_tuple))  # Minimum value\n",
    "print(max(my_tuple))  # Maximum value\n",
    "print(sum(my_tuple))  # Sum of elements"
   ]
  }
 ],
 "metadata": {
  "kernelspec": {
   "display_name": "Python 3",
   "language": "python",
   "name": "python3"
  },
  "language_info": {
   "codemirror_mode": {
    "name": "ipython",
    "version": 3
   },
   "file_extension": ".py",
   "mimetype": "text/x-python",
   "name": "python",
   "nbconvert_exporter": "python",
   "pygments_lexer": "ipython3",
   "version": "3.13.1"
  }
 },
 "nbformat": 4,
 "nbformat_minor": 5
}
