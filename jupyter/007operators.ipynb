{
 "cells": [
  {
   "cell_type": "markdown",
   "id": "8d5542fb",
   "metadata": {},
   "source": [
    "## Operators"
   ]
  },
  {
   "cell_type": "markdown",
   "id": "687c0ee0",
   "metadata": {},
   "source": [
    "#### Arithmetic Operators"
   ]
  },
  {
   "cell_type": "code",
   "execution_count": 1,
   "id": "2d3220ba",
   "metadata": {},
   "outputs": [
    {
     "name": "stdout",
     "output_type": "stream",
     "text": [
      "Addition: 10 + 3 = 13\n",
      "Subtraction: 10 - 3 = 7\n",
      "Multiplication: 10 * 3 = 30\n",
      "Division: 10 / 3 = 3.3333333333333335\n",
      "Floor Division: 10 // 3 = 3\n",
      "Modulus: 10 % 3 = 1\n",
      "Exponentiation: 10 ** 3 = 1000\n"
     ]
    }
   ],
   "source": [
    "# Arithmetic Operators in Python\n",
    "\n",
    "# Defining two numbers\n",
    "a = 10\n",
    "b = 3\n",
    "\n",
    "# Performing arithmetic operations\n",
    "print(f\"Addition: {a} + {b} = {a + b}\")      # Adds a and b\n",
    "print(f\"Subtraction: {a} - {b} = {a - b}\")   # Subtracts b from a\n",
    "print(f\"Multiplication: {a} * {b} = {a * b}\") # Multiplies a and b\n",
    "print(f\"Division: {a} / {b} = {a / b}\")      # Divides a by b (returns float)\n",
    "print(f\"Floor Division: {a} // {b} = {a // b}\") # Removes decimal part\n",
    "print(f\"Modulus: {a} % {b} = {a % b}\")       # Returns remainder of division\n",
    "print(f\"Exponentiation: {a} ** {b} = {a ** b}\") # Raises a to the power of b\n"
   ]
  },
  {
   "cell_type": "markdown",
   "id": "40a1f0b0",
   "metadata": {},
   "source": [
    "#### Comparison Operators"
   ]
  },
  {
   "cell_type": "code",
   "execution_count": 2,
   "id": "3c60eb2c",
   "metadata": {},
   "outputs": [
    {
     "name": "stdout",
     "output_type": "stream",
     "text": [
      "5 > 10: False\n",
      "5 < 10: True\n",
      "5 == 10: False\n",
      "5 != 10: True\n",
      "5 >= 10: False\n",
      "5 <= 10: True\n"
     ]
    }
   ],
   "source": [
    "# Comparison Operators in Python\n",
    "\n",
    "# Defining two numbers\n",
    "x = 5\n",
    "y = 10\n",
    "\n",
    "# Performing comparison operations\n",
    "print(f\"{x} > {y}: {x > y}\")   # Greater than\n",
    "print(f\"{x} < {y}: {x < y}\")   # Less than\n",
    "print(f\"{x} == {y}: {x == y}\") # Equal to\n",
    "print(f\"{x} != {y}: {x != y}\") # Not equal to\n",
    "print(f\"{x} >= {y}: {x >= y}\") # Greater than or equal to\n",
    "print(f\"{x} <= {y}: {x <= y}\") # Less than or equal to\n"
   ]
  },
  {
   "cell_type": "markdown",
   "id": "9a0bf6fe",
   "metadata": {},
   "source": [
    "#### Logical Operators"
   ]
  },
  {
   "cell_type": "code",
   "execution_count": 3,
   "id": "39392e57",
   "metadata": {},
   "outputs": [
    {
     "name": "stdout",
     "output_type": "stream",
     "text": [
      "True AND False: False\n",
      "True OR False: True\n",
      "NOT True: False\n",
      "NOT False: True\n"
     ]
    }
   ],
   "source": [
    "# Logical Operators in Python\n",
    "\n",
    "# Defining Boolean values\n",
    "a = True\n",
    "b = False\n",
    "\n",
    "# Performing logical operations\n",
    "print(f\"{a} AND {b}: {a and b}\")   # True if both are True\n",
    "print(f\"{a} OR {b}: {a or b}\")     # True if at least one is True\n",
    "print(f\"NOT {a}: {not a}\")         # Inverts the Boolean value\n",
    "print(f\"NOT {b}: {not b}\")         # Inverts the Boolean value\n"
   ]
  },
  {
   "cell_type": "markdown",
   "id": "7cd444c5",
   "metadata": {},
   "source": [
    "#### Bitwise Operators"
   ]
  },
  {
   "cell_type": "code",
   "execution_count": 4,
   "id": "dd09be38",
   "metadata": {},
   "outputs": [
    {
     "name": "stdout",
     "output_type": "stream",
     "text": [
      "Bitwise AND: 10 & 4 = 0\n",
      "Bitwise OR: 10 | 4 = 14\n",
      "Bitwise XOR: 10 ^ 4 = 14\n",
      "Bitwise NOT: ~10 = -11\n",
      "Right Shift: 10 >> 2 = 2\n",
      "Left Shift: 10 << 2 = 40\n"
     ]
    }
   ],
   "source": [
    "# Bitwise Operators in Python\n",
    "\n",
    "# Defining two numbers\n",
    "x = 10  # Binary: 1010\n",
    "y = 4   # Binary: 0100\n",
    "\n",
    "# Performing bitwise operations\n",
    "print(f\"Bitwise AND: {x} & {y} = {x & y}\")   # 1010 & 0100 → 0000 (0)\n",
    "print(f\"Bitwise OR: {x} | {y} = {x | y}\")    # 1010 | 0100 → 1110 (14)\n",
    "print(f\"Bitwise XOR: {x} ^ {y} = {x ^ y}\")   # 1010 ^ 0100 → 1110 (14)\n",
    "print(f\"Bitwise NOT: ~{x} = {~x}\")           # Inverts all bits (~1010 → -11 in two's complement)\n",
    "print(f\"Right Shift: {x} >> 2 = {x >> 2}\")   # 1010 >> 2 → 0010 (2)\n",
    "print(f\"Left Shift: {x} << 2 = {x << 2}\")    # 1010 << 2 → 101000 (40)\n"
   ]
  },
  {
   "cell_type": "markdown",
   "id": "ba6fae00",
   "metadata": {},
   "source": [
    "#### Assignment Operators"
   ]
  },
  {
   "cell_type": "code",
   "execution_count": 5,
   "id": "d6b65929",
   "metadata": {},
   "outputs": [
    {
     "name": "stdout",
     "output_type": "stream",
     "text": [
      "Initial value: a = 5\n",
      "a += 2 → 7\n",
      "a -= 2 → 5\n",
      "a *= 2 → 10\n",
      "a /= 2 → 5.0\n",
      "a %= 2 → 1.0\n",
      "b //=  → 3\n",
      "a **= 2 → 1.0\n"
     ]
    }
   ],
   "source": [
    "# Assignment Operators in Python\n",
    "\n",
    "# Initializing variable\n",
    "a = 5\n",
    "print(f\"Initial value: a = {a}\")\n",
    "\n",
    "# Performing assignment operations\n",
    "a += 2  # Adds 2 to a\n",
    "print(f\"a += 2 → {a}\")  \n",
    "\n",
    "a -= 2  # Subtracts 2 from a\n",
    "print(f\"a -= 2 → {a}\")  \n",
    "\n",
    "a *= 2  # Multiplies a by 2\n",
    "print(f\"a *= 2 → {a}\")  \n",
    "\n",
    "a /= 2  # Divides a by 2 (result as float)\n",
    "print(f\"a /= 2 → {a}\")  \n",
    "\n",
    "a %= 2  # Gets remainder of division by 2\n",
    "print(f\"a %= 2 → {a}\")  \n",
    "\n",
    "b = 10\n",
    "b //= 3 # Performs floor division by 3 (b = b // 3, result is rounded down)\n",
    "print(f\"b //=  → {b}\")\n",
    "\n",
    "a **= 2 # Raises a to the power of 2\n",
    "print(f\"a **= 2 → {a}\")  \n"
   ]
  },
  {
   "cell_type": "markdown",
   "id": "2bf17bc3",
   "metadata": {},
   "source": [
    "#### Identity Operators"
   ]
  },
  {
   "cell_type": "code",
   "execution_count": 6,
   "id": "d84e5da5",
   "metadata": {},
   "outputs": [
    {
     "name": "stdout",
     "output_type": "stream",
     "text": [
      "x is y: False\n",
      "x is not y: True\n",
      "x is z: True\n"
     ]
    }
   ],
   "source": [
    "# Identity Operators in Python\n",
    "\n",
    "# Defining two lists\n",
    "x = [1, 2, 3]\n",
    "y = [1, 2, 3]\n",
    "\n",
    "# Checking object identity\n",
    "print(f\"x is y: {x is y}\")       # False (different objects in memory)\n",
    "print(f\"x is not y: {x is not y}\") # True (they are not the same object)\n",
    "\n",
    "# Verifying with identical assignment\n",
    "z = x  # z points to the same object as x\n",
    "print(f\"x is z: {x is z}\")       # True (same memory reference)\n"
   ]
  },
  {
   "cell_type": "markdown",
   "id": "d8c7e61f",
   "metadata": {},
   "source": [
    "#### Membership Operators"
   ]
  },
  {
   "cell_type": "code",
   "execution_count": 7,
   "id": "83d6259c",
   "metadata": {},
   "outputs": [
    {
     "name": "stdout",
     "output_type": "stream",
     "text": [
      "Is 2 in the list? True\n",
      "Is 5 not in the list? True\n"
     ]
    }
   ],
   "source": [
    "# Membership Operators in Python\n",
    "\n",
    "# Defining a list\n",
    "list_val = [1, 2, 3, 4]\n",
    "\n",
    "# Checking membership\n",
    "print(f\"Is 2 in the list? {2 in list_val}\")     # Returns True since 2 is in the list\n",
    "print(f\"Is 5 not in the list? {5 not in list_val}\")  # Returns True since 5 is not in the list\n"
   ]
  }
 ],
 "metadata": {
  "kernelspec": {
   "display_name": "Python 3",
   "language": "python",
   "name": "python3"
  },
  "language_info": {
   "codemirror_mode": {
    "name": "ipython",
    "version": 3
   },
   "file_extension": ".py",
   "mimetype": "text/x-python",
   "name": "python",
   "nbconvert_exporter": "python",
   "pygments_lexer": "ipython3",
   "version": "3.13.1"
  }
 },
 "nbformat": 4,
 "nbformat_minor": 5
}
