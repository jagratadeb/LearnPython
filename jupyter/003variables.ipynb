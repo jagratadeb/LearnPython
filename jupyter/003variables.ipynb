{
 "cells": [
  {
   "cell_type": "markdown",
   "id": "cd25f425",
   "metadata": {},
   "source": [
    "## Variable naming rules\n",
    "\n",
    "**Valid** ✅: my_var, _var, var1\n",
    "\n",
    "**Invalid** ❌: 1var, my-var, my var"
   ]
  },
  {
   "cell_type": "code",
   "execution_count": 1,
   "id": "6971d82d",
   "metadata": {},
   "outputs": [
    {
     "name": "stdout",
     "output_type": "stream",
     "text": [
      "Integer variable x: 5\n",
      "Type of x: <class 'int'>\n"
     ]
    }
   ],
   "source": [
    "# Integer variable\n",
    "x = 5\n",
    "print(\"Integer variable x:\", x)\n",
    "print(\"Type of x:\", type(x))"
   ]
  },
  {
   "cell_type": "code",
   "execution_count": 2,
   "id": "4f042171",
   "metadata": {},
   "outputs": [
    {
     "name": "stdout",
     "output_type": "stream",
     "text": [
      "String variable name: Alice\n",
      "Type of name: <class 'str'>\n"
     ]
    }
   ],
   "source": [
    "# String variable\n",
    "name = \"Alice\"\n",
    "print(\"String variable name:\", name)\n",
    "print(\"Type of name:\", type(name))"
   ]
  },
  {
   "cell_type": "code",
   "execution_count": 3,
   "id": "13c2898c",
   "metadata": {},
   "outputs": [
    {
     "name": "stdout",
     "output_type": "stream",
     "text": [
      "Float variable pi: 3.14\n",
      "Type of pi: <class 'float'>\n"
     ]
    }
   ],
   "source": [
    "# Float variable\n",
    "pi = 3.14\n",
    "print(\"Float variable pi:\", pi)\n",
    "print(\"Type of pi:\", type(pi))"
   ]
  },
  {
   "cell_type": "code",
   "execution_count": 4,
   "id": "9a0a186c",
   "metadata": {},
   "outputs": [
    {
     "name": "stdout",
     "output_type": "stream",
     "text": [
      "Boolean variable is_active: True\n",
      "Type of is_active: <class 'bool'>\n"
     ]
    }
   ],
   "source": [
    "# Boolean variable\n",
    "is_active = True\n",
    "print(\"Boolean variable is_active:\", is_active)\n",
    "print(\"Type of is_active:\", type(is_active))"
   ]
  },
  {
   "cell_type": "code",
   "execution_count": 5,
   "id": "1fe7c9d6",
   "metadata": {},
   "outputs": [
    {
     "name": "stdout",
     "output_type": "stream",
     "text": [
      "Multiple assignment a, b, c: 1 2 3\n",
      "Type of a: <class 'int'>\n"
     ]
    }
   ],
   "source": [
    "# Multiple assignment\n",
    "a, b, c = 1, 2, 3\n",
    "print(\"Multiple assignment a, b, c:\", a, b, c)\n",
    "print(\"Type of a:\", type(a))\n"
   ]
  },
  {
   "cell_type": "code",
   "execution_count": 6,
   "id": "3f0e3084",
   "metadata": {},
   "outputs": [
    {
     "name": "stdout",
     "output_type": "stream",
     "text": [
      "Dynamic typing x: Now I'm a string!\n",
      "Type of x: <class 'str'>\n"
     ]
    }
   ],
   "source": [
    "# Dynamic typing\n",
    "x = \"Now I'm a string!\"\n",
    "print(\"Dynamic typing x:\", x)\n",
    "print(\"Type of x:\", type(x))\n"
   ]
  }
 ],
 "metadata": {
  "kernelspec": {
   "display_name": "Python 3",
   "language": "python",
   "name": "python3"
  },
  "language_info": {
   "codemirror_mode": {
    "name": "ipython",
    "version": 3
   },
   "file_extension": ".py",
   "mimetype": "text/x-python",
   "name": "python",
   "nbconvert_exporter": "python",
   "pygments_lexer": "ipython3",
   "version": "3.13.1"
  }
 },
 "nbformat": 4,
 "nbformat_minor": 5
}
