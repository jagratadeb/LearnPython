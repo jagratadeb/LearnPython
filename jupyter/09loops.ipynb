{
 "cells": [
  {
   "cell_type": "markdown",
   "id": "0d078f5c",
   "metadata": {},
   "source": [
    "# Loops"
   ]
  },
  {
   "cell_type": "markdown",
   "id": "13334370",
   "metadata": {},
   "source": [
    "#### for loop"
   ]
  },
  {
   "cell_type": "code",
   "execution_count": 55,
   "id": "827a6b8b",
   "metadata": {},
   "outputs": [
    {
     "name": "stdout",
     "output_type": "stream",
     "text": [
      "for loop iteration: 0\n",
      "for loop iteration: 1\n",
      "for loop iteration: 2\n",
      "for loop iteration: 3\n",
      "for loop iteration: 4\n"
     ]
    }
   ],
   "source": [
    "# For loop example\n",
    "for i in range(5):\n",
    "    print(\"for loop iteration:\", i)"
   ]
  },
  {
   "cell_type": "code",
   "execution_count": 56,
   "id": "c3a77045",
   "metadata": {},
   "outputs": [
    {
     "name": "stdout",
     "output_type": "stream",
     "text": [
      "1 X 1 = 1\n",
      "1 X 2 = 2\n",
      "1 X 3 = 3\n",
      "1 X 4 = 4\n",
      "1 X 5 = 5\n",
      "1 X 6 = 6\n",
      "1 X 7 = 7\n",
      "1 X 8 = 8\n",
      "1 X 9 = 9\n",
      "1 X 10 = 10\n"
     ]
    }
   ],
   "source": [
    "for i in range(1,11):\n",
    "    print(f\"1 X {i} = {1*i}\")"
   ]
  },
  {
   "cell_type": "code",
   "execution_count": 57,
   "id": "fccb05e6",
   "metadata": {},
   "outputs": [
    {
     "name": "stdout",
     "output_type": "stream",
     "text": [
      "1\n",
      "3\n",
      "5\n",
      "7\n",
      "9\n",
      "\n",
      "\n",
      "5\n",
      "4\n",
      "3\n",
      "2\n",
      "1\n",
      "0\n"
     ]
    }
   ],
   "source": [
    "for i in range(1,11,2):\n",
    "    print(f\"{i}\")\n",
    "\n",
    "print('\\n')\n",
    "\n",
    "for i in range(5,-1,-1):\n",
    "    print(i)"
   ]
  },
  {
   "cell_type": "markdown",
   "id": "2ccc7b94",
   "metadata": {},
   "source": [
    "#### While loop "
   ]
  },
  {
   "cell_type": "code",
   "execution_count": 64,
   "id": "a990ee14",
   "metadata": {},
   "outputs": [
    {
     "name": "stdout",
     "output_type": "stream",
     "text": [
      "While loop count: 0\n",
      "While loop count: 1\n",
      "While loop count: 2\n"
     ]
    }
   ],
   "source": [
    "# While loop example\n",
    "count = 0\n",
    "while (count < 3):\n",
    "    print(\"While loop count:\", count)\n",
    "    count += 1"
   ]
  },
  {
   "cell_type": "markdown",
   "id": "5860ed98",
   "metadata": {},
   "source": [
    "#### Nested loops "
   ]
  },
  {
   "cell_type": "code",
   "execution_count": 59,
   "id": "e9820f70",
   "metadata": {},
   "outputs": [
    {
     "name": "stdout",
     "output_type": "stream",
     "text": [
      "Nested loop: i=0, j=0\n",
      "Nested loop: i=0, j=1\n",
      "Nested loop: i=1, j=0\n",
      "Nested loop: i=1, j=1\n"
     ]
    }
   ],
   "source": [
    "# Nested loops example\n",
    "for i in range(2):\n",
    "    for j in range(2):\n",
    "        print(f\"Nested loop: i={i}, j={j}\")"
   ]
  },
  {
   "cell_type": "markdown",
   "id": "4770849b",
   "metadata": {},
   "source": [
    "#### Break statement "
   ]
  },
  {
   "cell_type": "code",
   "execution_count": 65,
   "id": "aca66840",
   "metadata": {},
   "outputs": [
    {
     "name": "stdout",
     "output_type": "stream",
     "text": [
      "Break at: 0\n",
      "Break at: 1\n",
      "Break at: 2\n"
     ]
    }
   ],
   "source": [
    "# Break statement example\n",
    "for i in range(5):\n",
    "    if (i == 3):\n",
    "        break  # Loop exits when i == 3\n",
    "    print(\"Break at:\", i)"
   ]
  },
  {
   "cell_type": "markdown",
   "id": "0aa94729",
   "metadata": {},
   "source": [
    "#### Continue statement "
   ]
  },
  {
   "cell_type": "code",
   "execution_count": 61,
   "id": "2d962363",
   "metadata": {},
   "outputs": [
    {
     "name": "stdout",
     "output_type": "stream",
     "text": [
      "Continue at: 0\n",
      "Continue at: 1\n",
      "Continue at: 3\n",
      "Continue at: 4\n"
     ]
    }
   ],
   "source": [
    "# Continue statement example\n",
    "for i in range(5):\n",
    "    if i == 2:\n",
    "        continue  # Skips printing when i == 2\n",
    "    print(\"Continue at:\", i)"
   ]
  },
  {
   "cell_type": "markdown",
   "id": "6610a145",
   "metadata": {},
   "source": [
    "#### Pass statement"
   ]
  },
  {
   "cell_type": "code",
   "execution_count": 62,
   "id": "01ea9799",
   "metadata": {},
   "outputs": [],
   "source": [
    "# Pass statement example\n",
    "for i in range(3):\n",
    "    pass  # Placeholder statement, does nothing"
   ]
  },
  {
   "cell_type": "markdown",
   "id": "e5d69fa9",
   "metadata": {},
   "source": [
    "#### Else with loops"
   ]
  },
  {
   "cell_type": "code",
   "execution_count": 63,
   "id": "e8b0e258",
   "metadata": {},
   "outputs": [
    {
     "name": "stdout",
     "output_type": "stream",
     "text": [
      "0\n",
      "1\n",
      "2\n",
      "Loop finished without break\n"
     ]
    }
   ],
   "source": [
    "# Else with loops example\n",
    "for i in range(3):\n",
    "    print(i)\n",
    "else:\n",
    "    print(\"Loop finished without break\")"
   ]
  }
 ],
 "metadata": {
  "kernelspec": {
   "display_name": "Python 3",
   "language": "python",
   "name": "python3"
  },
  "language_info": {
   "codemirror_mode": {
    "name": "ipython",
    "version": 3
   },
   "file_extension": ".py",
   "mimetype": "text/x-python",
   "name": "python",
   "nbconvert_exporter": "python",
   "pygments_lexer": "ipython3",
   "version": "3.13.1"
  }
 },
 "nbformat": 4,
 "nbformat_minor": 5
}
