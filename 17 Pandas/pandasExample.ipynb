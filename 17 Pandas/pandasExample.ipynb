{
 "cells": [
  {
   "metadata": {
    "ExecuteTime": {
     "end_time": "2025-08-23T20:56:26.891338Z",
     "start_time": "2025-08-23T20:56:26.881273Z"
    }
   },
   "cell_type": "code",
   "source": [
    "import pandas as pd\n",
    "\n",
    "s = pd.Series([1, 2, 3, 4, 5], index=['a', 'b', 'c', 'd', 'e'])\n",
    "print(s)"
   ],
   "id": "6f1b38c8",
   "outputs": [
    {
     "name": "stdout",
     "output_type": "stream",
     "text": [
      "a    1\n",
      "b    2\n",
      "c    3\n",
      "d    4\n",
      "e    5\n",
      "dtype: int64\n"
     ]
    }
   ],
   "execution_count": 11
  },
  {
   "cell_type": "code",
   "id": "2e8272b9",
   "metadata": {
    "ExecuteTime": {
     "end_time": "2025-08-23T20:56:27.176119Z",
     "start_time": "2025-08-23T20:56:27.168223Z"
    }
   },
   "source": [
    "df = pd.DataFrame({\"names\":[\"Jagrata\",\"Rohan\", \"Shubham\"], \"marks\":[100, 95, 88]})\n",
    "print(df)"
   ],
   "outputs": [
    {
     "name": "stdout",
     "output_type": "stream",
     "text": [
      "     names  marks\n",
      "0  Jagrata    100\n",
      "1    Rohan     95\n",
      "2  Shubham     88\n"
     ]
    }
   ],
   "execution_count": 12
  },
  {
   "cell_type": "code",
   "id": "6caab1be",
   "metadata": {
    "ExecuteTime": {
     "end_time": "2025-08-23T20:56:27.417257Z",
     "start_time": "2025-08-23T20:56:27.404606Z"
    }
   },
   "source": [
    "data = pd.read_csv(\"Data/people-10.csv\")\n",
    "print(data)"
   ],
   "outputs": [
    {
     "name": "stdout",
     "output_type": "stream",
     "text": [
      "   Index          User Id First Name Last Name     Sex  \\\n",
      "0      1  88F7B33d2bcf9f5     Shelby   Terrell    Male   \n",
      "1      2  f90cD3E76f1A9b9    Phillip   Summers  Female   \n",
      "2      3  DbeAb8CcdfeFC2c   Kristine    Travis    Male   \n",
      "3      4  A31Bee3c201ef58    Yesenia  Martinez    Male   \n",
      "4      5  1bA7A3dc874da3c       Lori      Todd    Male   \n",
      "5      6  bfDD7CDEF5D865B       Erin       Day    Male   \n",
      "6      7  bE9EEf34cB72AF7  Katherine      Buck  Female   \n",
      "7      8  2EFC6A4e77FaEaC    Ricardo    Hinton    Male   \n",
      "8      9  baDcC4DeefD8dEB       Dave   Farrell    Male   \n",
      "9     10  8e4FB470FE19bF0     Isaiah     Downs    Male   \n",
      "\n",
      "                         Email  \n",
      "0         elijah57@example.net  \n",
      "1        bethany14@example.com  \n",
      "2        bthompson@example.com  \n",
      "3    kaitlinkaiser@example.com  \n",
      "4   buchananmanuel@example.net  \n",
      "5          tconner@example.org  \n",
      "6      conniecowan@example.com  \n",
      "7      wyattbishop@example.com  \n",
      "8          nmccann@example.net  \n",
      "9  virginiaterrell@example.org  \n"
     ]
    }
   ],
   "execution_count": 13
  },
  {
   "cell_type": "code",
   "id": "55be0fd7",
   "metadata": {
    "ExecuteTime": {
     "end_time": "2025-08-23T20:56:27.950382Z",
     "start_time": "2025-08-23T20:56:27.933195Z"
    }
   },
   "source": [
    "print(data.describe())"
   ],
   "outputs": [
    {
     "name": "stdout",
     "output_type": "stream",
     "text": [
      "          Index\n",
      "count  10.00000\n",
      "mean    5.50000\n",
      "std     3.02765\n",
      "min     1.00000\n",
      "25%     3.25000\n",
      "50%     5.50000\n",
      "75%     7.75000\n",
      "max    10.00000\n"
     ]
    }
   ],
   "execution_count": 14
  },
  {
   "cell_type": "code",
   "id": "4614cdaa",
   "metadata": {
    "ExecuteTime": {
     "end_time": "2025-08-23T20:56:28.329666Z",
     "start_time": "2025-08-23T20:56:28.323756Z"
    }
   },
   "source": [
    "df = pd.DataFrame({\"names\":[\"Jagrata\",\"Rohan\", \"Shubham\"], \"marks\":[100, 95, 88]})\n",
    "print(df)"
   ],
   "outputs": [
    {
     "name": "stdout",
     "output_type": "stream",
     "text": [
      "     names  marks\n",
      "0  Jagrata    100\n",
      "1    Rohan     95\n",
      "2  Shubham     88\n"
     ]
    }
   ],
   "execution_count": 15
  },
  {
   "cell_type": "code",
   "id": "e2f6c50d",
   "metadata": {
    "ExecuteTime": {
     "end_time": "2025-08-23T20:56:28.536724Z",
     "start_time": "2025-08-23T20:56:28.530578Z"
    }
   },
   "source": [
    "print(df[\"names\"])"
   ],
   "outputs": [
    {
     "name": "stdout",
     "output_type": "stream",
     "text": [
      "0    Jagrata\n",
      "1      Rohan\n",
      "2    Shubham\n",
      "Name: names, dtype: object\n"
     ]
    }
   ],
   "execution_count": 16
  },
  {
   "cell_type": "markdown",
   "id": "8e1c6b75",
   "metadata": {},
   "source": [
    "# Handling Missing Data in Pandas: `dropna` and `fillna`\n",
    "Pandas provides powerful methods to handle missing data in DataFrames:\n",
    "\n",
    "## `df.dropna()`\n",
    "- Removes rows (or columns) with missing values (`NaN`).\n",
    "- By default, it drops any row with at least one missing value.\n",
    "- You can use `axis=1` to drop columns with missing values.\n",
    "- Example:\n",
    "    ```python\n",
    "    df_clean = df.dropna()  # Drop rows with any NaN values\n",
    "    df_clean_cols = df.dropna(axis=1)  # Drop columns with any NaN values\n",
    "    ```\n",
    "\n",
    "## `df.fillna()`\n",
    "- Fills missing values (`NaN`) with a specified value.\n",
    "- You can fill with a constant, or use methods like forward/backward fill.\n",
    "- Example:\n",
    "    ```python\n",
    "    df_filled = df.fillna(0)  # Replace NaN with 0\n",
    "    df_ffill = df.fillna(method='ffill')  # Forward fill\n",
    "    df_bfill = df.fillna(method='bfill')  # Backward fill\n",
    "    ```\n",
    "\n",
    "These methods help you clean and prepare your data for analysis."
   ]
  },
  {
   "cell_type": "markdown",
   "id": "2f27c6f6",
   "metadata": {},
   "source": [
    "# Saving DataFrames to CSV with `to_csv`\n",
    "You can save a pandas DataFrame to a CSV file using the `to_csv` method.\n",
    "\n",
    "**Basic usage:**\n",
    "```python\n",
    "df.to_csv('filename.csv')\n",
    "```\n",
    "\n",
    "**Options:**\n",
    "- `index=False` : Do not write row indices to the file.\n",
    "- `sep=','` : Specify a different separator (default is comma).\n",
    "- `header=True` : Write column names (default is True).\n",
    "\n",
    "**Example:**\n",
    "```python\n",
    "df.to_csv('output.csv', index=False)  # Save DataFrame without row indices\n",
    "```\n",
    "\n",
    "This is useful for exporting your cleaned or processed data for use in other applications."
   ]
  }
 ],
 "metadata": {
  "kernelspec": {
   "display_name": "base",
   "language": "python",
   "name": "python3"
  },
  "language_info": {
   "codemirror_mode": {
    "name": "ipython",
    "version": 3
   },
   "file_extension": ".py",
   "mimetype": "text/x-python",
   "name": "python",
   "nbconvert_exporter": "python",
   "pygments_lexer": "ipython3",
   "version": "3.13.5"
  }
 },
 "nbformat": 4,
 "nbformat_minor": 5
}
